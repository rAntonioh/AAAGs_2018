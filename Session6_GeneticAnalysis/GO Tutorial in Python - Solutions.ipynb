{
 "cells": [
  {
   "cell_type": "markdown",
   "metadata": {},
   "source": [
    "# A Gene Ontology Tutorial in Python - Model Solutions to Exercises"
   ]
  },
  {
   "cell_type": "markdown",
   "metadata": {},
   "source": [
    "These electronic exercises (with solutions) accompany the book chapter \"A Gene Ontology Tutorial in Python\" by Alex Warwick Vesztrocy and Christophe Dessimoz, to appear in _The Gene Ontology Handbook_, C Dessimoz and N Skunca Eds, Springer Humana.\n",
    "\n",
    "Version: 1.0.1 (Sep 2016)"
   ]
  },
  {
   "cell_type": "markdown",
   "metadata": {},
   "source": [
    "## Section 2 - Querying the Gene Ontology\n",
    "\n",
    "First, we need to load the GOATools library. This enables us to parse the Gene Ontology (GO) OBO file. For more information on GOATools, see <a href=\"https://github.com/tanghaibao/goatools\">their documentation</a>."
   ]
  },
  {
   "cell_type": "code",
   "execution_count": 1,
   "metadata": {
    "ExecuteTime": {
     "end_time": "2018-08-02T16:52:26.284446Z",
     "start_time": "2018-08-02T16:52:26.270592Z"
    }
   },
   "outputs": [],
   "source": [
    "# Import the OBO parser from GOATools\n",
    "from goatools import obo_parser"
   ]
  },
  {
   "cell_type": "markdown",
   "metadata": {},
   "source": [
    "In order to download the GO OBO file, we also require the <code>wget</code> and <code>os</code> libraries."
   ]
  },
  {
   "cell_type": "code",
   "execution_count": 2,
   "metadata": {
    "ExecuteTime": {
     "end_time": "2018-08-02T16:52:26.440669Z",
     "start_time": "2018-08-02T16:52:26.306373Z"
    }
   },
   "outputs": [],
   "source": [
    "import wget\n",
    "import os"
   ]
  },
  {
   "cell_type": "markdown",
   "metadata": {},
   "source": [
    "Now, we can download the OBO file into the <code>'./data'</code> folder using the following. We are going to download the <code>go-basic.obo</code> version of the ontology, which is guaranteed to be acyclic, which means that annotations can be propagated up the graph."
   ]
  },
  {
   "cell_type": "code",
   "execution_count": 3,
   "metadata": {
    "ExecuteTime": {
     "end_time": "2018-08-02T16:52:26.451214Z",
     "start_time": "2018-08-02T16:52:26.444104Z"
    }
   },
   "outputs": [],
   "source": [
    "go_obo_url = 'http://purl.obolibrary.org/obo/go/go-basic.obo'\n",
    "data_folder = os.getcwd() + '/data'\n",
    "\n",
    "# Check if we have the ./data directory already\n",
    "if(not os.path.isfile(data_folder)):\n",
    "    # Emulate mkdir -p (no error if folder exists)\n",
    "    try:\n",
    "        os.mkdir(data_folder)\n",
    "    except OSError as e:\n",
    "        if(e.errno != 17):\n",
    "            raise e\n",
    "else:\n",
    "    raise Exception('Data path (' + data_folder + ') exists as a file. '\n",
    "                   'Please rename, remove or change the desired location of the data path.')\n",
    "\n",
    "# Check if the file exists already\n",
    "if(not os.path.isfile(data_folder+'/go-basic.obo')):\n",
    "    go_obo = wget.download(go_obo_url, data_folder+'/go-basic.obo')\n",
    "else:\n",
    "    go_obo = data_folder+'/go-basic.obo'"
   ]
  },
  {
   "cell_type": "markdown",
   "metadata": {},
   "source": [
    "The path to the GO OBO file is now stored in the variable <code>go_obo</code>."
   ]
  },
  {
   "cell_type": "code",
   "execution_count": 4,
   "metadata": {
    "ExecuteTime": {
     "end_time": "2018-08-02T16:52:26.458766Z",
     "start_time": "2018-08-02T16:52:26.454450Z"
    }
   },
   "outputs": [
    {
     "name": "stdout",
     "output_type": "stream",
     "text": [
      "/Users/rah/Development/AAAGs_2018/Session6_GeneticAnalysis/data/go-basic.obo\n"
     ]
    }
   ],
   "source": [
    "print(go_obo)"
   ]
  },
  {
   "cell_type": "markdown",
   "metadata": {},
   "source": [
    "Now we can create a dictionary of the GO terms, using the <code>obo_parser</code> from GOATools."
   ]
  },
  {
   "cell_type": "code",
   "execution_count": 5,
   "metadata": {
    "ExecuteTime": {
     "end_time": "2018-08-02T16:52:28.431349Z",
     "start_time": "2018-08-02T16:52:26.462097Z"
    }
   },
   "outputs": [
    {
     "name": "stdout",
     "output_type": "stream",
     "text": [
      "/Users/rah/Development/AAAGs_2018/Session6_GeneticAnalysis/data/go-basic.obo: fmt(1.2) rel(2018-07-28) 47,288 GO Terms\n"
     ]
    }
   ],
   "source": [
    "go = obo_parser.GODag(go_obo)"
   ]
  },
  {
   "cell_type": "markdown",
   "metadata": {},
   "source": [
    "### Exercises 2.1\n",
    "#### Question 2.1.a. \n",
    "What is the name of the GO term <code>GO:0048527</code>?"
   ]
  },
  {
   "cell_type": "markdown",
   "metadata": {},
   "source": [
    "#### Answer 2.1.a."
   ]
  },
  {
   "cell_type": "code",
   "execution_count": 6,
   "metadata": {
    "ExecuteTime": {
     "end_time": "2018-08-02T16:52:28.438432Z",
     "start_time": "2018-08-02T16:52:28.434298Z"
    }
   },
   "outputs": [
    {
     "name": "stdout",
     "output_type": "stream",
     "text": [
      "GO:0048527\tlevel-05\tdepth-06\tlateral root development [biological_process]\n"
     ]
    }
   ],
   "source": [
    "go_id = 'GO:0048527'\n",
    "go_term = go[go_id]\n",
    "print(go_term)"
   ]
  },
  {
   "cell_type": "code",
   "execution_count": 7,
   "metadata": {
    "ExecuteTime": {
     "end_time": "2018-08-02T16:52:28.446588Z",
     "start_time": "2018-08-02T16:52:28.442092Z"
    }
   },
   "outputs": [
    {
     "name": "stdout",
     "output_type": "stream",
     "text": [
      "GO term name: lateral root development\n",
      "GO term namespace: biological_process\n"
     ]
    }
   ],
   "source": [
    "print('GO term name: {}'.format(go_term.name))\n",
    "print('GO term namespace: {}'.format(go_term.namespace))"
   ]
  },
  {
   "cell_type": "markdown",
   "metadata": {},
   "source": [
    "#### Question 2.1.b. \n",
    "What are the immediate parent(s) of the term <code>GO:0048527</code>?"
   ]
  },
  {
   "cell_type": "markdown",
   "metadata": {},
   "source": [
    "#### Answer 2.1.b."
   ]
  },
  {
   "cell_type": "code",
   "execution_count": 8,
   "metadata": {
    "ExecuteTime": {
     "end_time": "2018-08-02T16:52:28.454691Z",
     "start_time": "2018-08-02T16:52:28.450613Z"
    }
   },
   "outputs": [
    {
     "name": "stdout",
     "output_type": "stream",
     "text": [
      "GO:0048528\tlevel-04\tdepth-05\tpost-embryonic root development [biological_process]\n"
     ]
    }
   ],
   "source": [
    "for term in go_term.parents:\n",
    "    print(term)"
   ]
  },
  {
   "cell_type": "markdown",
   "metadata": {},
   "source": [
    "#### Question 2.1.c. \n",
    "What are the immediate children of the term <code>GO:0048527</code>?"
   ]
  },
  {
   "cell_type": "markdown",
   "metadata": {},
   "source": [
    "#### Answer 2.1.c."
   ]
  },
  {
   "cell_type": "code",
   "execution_count": 9,
   "metadata": {
    "ExecuteTime": {
     "end_time": "2018-08-02T16:52:28.462536Z",
     "start_time": "2018-08-02T16:52:28.458945Z"
    }
   },
   "outputs": [],
   "source": [
    "for term in go_term.children:\n",
    "    print(term)"
   ]
  },
  {
   "cell_type": "markdown",
   "metadata": {},
   "source": [
    "#### Question 2.1.d. \n",
    "Recursively find all the parent and child terms of the term <code>GO:0048527</code>. _Hint_: use your solutions to the previous two questions, with a recursive loop."
   ]
  },
  {
   "cell_type": "markdown",
   "metadata": {},
   "source": [
    "#### Answer 2.1.d."
   ]
  },
  {
   "cell_type": "markdown",
   "metadata": {},
   "source": [
    "First, we can define functions to find the parents and children of a GO term, as well as one that finds both - the transitive closure."
   ]
  },
  {
   "cell_type": "code",
   "execution_count": 10,
   "metadata": {
    "ExecuteTime": {
     "end_time": "2018-08-02T16:52:28.472425Z",
     "start_time": "2018-08-02T16:52:28.465935Z"
    }
   },
   "outputs": [],
   "source": [
    "def transitive_closure(go_term, go):\n",
    "    go_term_set = set()\n",
    "    find_parents(go_term, go, go_term_set)\n",
    "    find_children(go_term, go, go_term_set)\n",
    "    return go_term_set\n",
    "    \n",
    "def find_parents(term1, go, go_term_set={}, ret=False):\n",
    "    for term2 in term1.parents:\n",
    "        go_term_set.update({term2})\n",
    "        \n",
    "        # Recurse on term to find all parents\n",
    "        find_parents(term2, go, go_term_set)          \n",
    "    if(ret):\n",
    "        return go_term_set\n",
    "\n",
    "def find_children(term1, go, go_term_set={}, ret=False):\n",
    "    for term2 in term1.children:\n",
    "        go_term_set.update({term2})\n",
    "        \n",
    "        # Recurse on term to find all children\n",
    "        find_children(term2, go, go_term_set)\n",
    "    if(ret):\n",
    "        return go_term_set"
   ]
  },
  {
   "cell_type": "markdown",
   "metadata": {},
   "source": [
    "Now we can create the transitive closure as a set by calling the following."
   ]
  },
  {
   "cell_type": "code",
   "execution_count": 11,
   "metadata": {
    "ExecuteTime": {
     "end_time": "2018-08-02T16:52:28.478748Z",
     "start_time": "2018-08-02T16:52:28.475790Z"
    }
   },
   "outputs": [],
   "source": [
    "go_term_set = transitive_closure(go_term, go)"
   ]
  },
  {
   "cell_type": "markdown",
   "metadata": {},
   "source": [
    "We can now print this out using the \"pretty print\"f eature that is inherited from GOATools."
   ]
  },
  {
   "cell_type": "code",
   "execution_count": 12,
   "metadata": {
    "ExecuteTime": {
     "end_time": "2018-08-02T16:52:28.487118Z",
     "start_time": "2018-08-02T16:52:28.482096Z"
    }
   },
   "outputs": [
    {
     "name": "stdout",
     "output_type": "stream",
     "text": [
      "GO:0090696\tlevel-03\tdepth-04\tpost-embryonic plant organ development [biological_process]\n",
      "GO:0048364\tlevel-04\tdepth-04\troot development [biological_process]\n",
      "GO:0032501\tlevel-01\tdepth-01\tmulticellular organismal process [biological_process]\n",
      "GO:0048856\tlevel-02\tdepth-02\tanatomical structure development [biological_process]\n",
      "GO:0008150\tlevel-00\tdepth-00\tbiological_process [biological_process]\n",
      "GO:0032502\tlevel-01\tdepth-01\tdevelopmental process [biological_process]\n",
      "GO:0009791\tlevel-02\tdepth-02\tpost-embryonic development [biological_process]\n",
      "GO:0099402\tlevel-03\tdepth-03\tplant organ development [biological_process]\n",
      "GO:0048528\tlevel-04\tdepth-05\tpost-embryonic root development [biological_process]\n"
     ]
    }
   ],
   "source": [
    "for term in go_term_set:\n",
    "    print(term)"
   ]
  },
  {
   "cell_type": "markdown",
   "metadata": {},
   "source": [
    "An alternative method is by using an inbuilt function of GOATools."
   ]
  },
  {
   "cell_type": "code",
   "execution_count": 13,
   "metadata": {
    "ExecuteTime": {
     "end_time": "2018-08-02T16:52:28.494935Z",
     "start_time": "2018-08-02T16:52:28.490692Z"
    }
   },
   "outputs": [],
   "source": [
    "rec = go[go_id]\n",
    "parents = rec.get_all_parents()\n",
    "children = rec.get_all_children()"
   ]
  },
  {
   "cell_type": "code",
   "execution_count": 14,
   "metadata": {
    "ExecuteTime": {
     "end_time": "2018-08-02T16:52:28.503003Z",
     "start_time": "2018-08-02T16:52:28.498505Z"
    }
   },
   "outputs": [
    {
     "name": "stdout",
     "output_type": "stream",
     "text": [
      "GO:0009791\tlevel-02\tdepth-02\tpost-embryonic development [biological_process]\n",
      "GO:0099402\tlevel-03\tdepth-03\tplant organ development [biological_process]\n",
      "GO:0048856\tlevel-02\tdepth-02\tanatomical structure development [biological_process]\n",
      "GO:0008150\tlevel-00\tdepth-00\tbiological_process [biological_process]\n",
      "GO:0048364\tlevel-04\tdepth-04\troot development [biological_process]\n",
      "GO:0090696\tlevel-03\tdepth-04\tpost-embryonic plant organ development [biological_process]\n",
      "GO:0032501\tlevel-01\tdepth-01\tmulticellular organismal process [biological_process]\n",
      "GO:0048528\tlevel-04\tdepth-05\tpost-embryonic root development [biological_process]\n",
      "GO:0032502\tlevel-01\tdepth-01\tdevelopmental process [biological_process]\n"
     ]
    }
   ],
   "source": [
    "for term in parents.union(children):\n",
    "    print(go[term])"
   ]
  },
  {
   "cell_type": "markdown",
   "metadata": {},
   "source": [
    "#### Question 2.1.e. \n",
    "How many GO terms have the word “growth” in their name?"
   ]
  },
  {
   "cell_type": "markdown",
   "metadata": {},
   "source": [
    "#### Answer 2.1.e."
   ]
  },
  {
   "cell_type": "markdown",
   "metadata": {},
   "source": [
    "To do this, we can loop around every single GO term and check their name."
   ]
  },
  {
   "cell_type": "code",
   "execution_count": 15,
   "metadata": {
    "ExecuteTime": {
     "end_time": "2018-08-02T16:52:28.521468Z",
     "start_time": "2018-08-02T16:52:28.506184Z"
    }
   },
   "outputs": [
    {
     "name": "stdout",
     "output_type": "stream",
     "text": [
      "Number of GO terms with \"growth\" in their name: 632\n"
     ]
    }
   ],
   "source": [
    "growth_count = 0\n",
    "for go_term in go.values():\n",
    "    if 'growth' in go_term.name:\n",
    "        growth_count += 1\n",
    "        \n",
    "print('Number of GO terms with \"growth\" in their name: {}'.format(growth_count))"
   ]
  },
  {
   "cell_type": "markdown",
   "metadata": {},
   "source": [
    "#### Question 2.1.f.\n",
    "What is the deepest common ancestor term of <code>GO:0048527</code> and <code>GO:0097178</code>?"
   ]
  },
  {
   "cell_type": "markdown",
   "metadata": {},
   "source": [
    "#### Answer 2.1.f."
   ]
  },
  {
   "cell_type": "markdown",
   "metadata": {},
   "source": [
    "First, we can write a function that finds the common GO terms."
   ]
  },
  {
   "cell_type": "code",
   "execution_count": 16,
   "metadata": {
    "ExecuteTime": {
     "end_time": "2018-08-02T16:52:28.531045Z",
     "start_time": "2018-08-02T16:52:28.524354Z"
    }
   },
   "outputs": [],
   "source": [
    "def common_parent_go_ids(terms, go):\n",
    "    '''\n",
    "        This function finds the common ancestors in the GO \n",
    "        tree of the list of terms in the input.\n",
    "    '''\n",
    "    # Find candidates from first\n",
    "    rec = go[terms[0]]\n",
    "    candidates = rec.get_all_parents()\n",
    "    candidates.update({terms[0]})\n",
    "    \n",
    "    # Find intersection with second to nth term\n",
    "    for term in terms[1:]:\n",
    "        rec = go[term]\n",
    "        parents = rec.get_all_parents()\n",
    "        parents.update({term})\n",
    "        \n",
    "        # Find the intersection with the candidates, and update.\n",
    "        candidates.intersection_update(parents)\n",
    "        \n",
    "    return candidates"
   ]
  },
  {
   "cell_type": "markdown",
   "metadata": {},
   "source": [
    "Then we can define the deepest common ancestor of two terms, as follows:"
   ]
  },
  {
   "cell_type": "code",
   "execution_count": 17,
   "metadata": {
    "ExecuteTime": {
     "end_time": "2018-08-02T16:52:28.539017Z",
     "start_time": "2018-08-02T16:52:28.533977Z"
    }
   },
   "outputs": [],
   "source": [
    "def deepest_common_ancestor(terms, go):\n",
    "    '''\n",
    "        This function gets the nearest common ancestor \n",
    "        using the above function.\n",
    "        Only returns single most specific - assumes unique exists.\n",
    "    '''\n",
    "    # Take the element at maximum depth. \n",
    "    return max(common_parent_go_ids(terms, go), key=lambda t: go[t].depth)"
   ]
  },
  {
   "cell_type": "markdown",
   "metadata": {},
   "source": [
    "Then we can find the deepest common ancestor of the two terms in question. "
   ]
  },
  {
   "cell_type": "code",
   "execution_count": 18,
   "metadata": {
    "ExecuteTime": {
     "end_time": "2018-08-02T16:52:28.547743Z",
     "start_time": "2018-08-02T16:52:28.542697Z"
    }
   },
   "outputs": [],
   "source": [
    "go_id1 = 'GO:0097178'\n",
    "go_id_id1_dca = deepest_common_ancestor([go_id, go_id1], go)"
   ]
  },
  {
   "cell_type": "code",
   "execution_count": 38,
   "metadata": {
    "ExecuteTime": {
     "end_time": "2018-08-02T16:53:02.305187Z",
     "start_time": "2018-08-02T16:53:02.301488Z"
    }
   },
   "outputs": [
    {
     "name": "stdout",
     "output_type": "stream",
     "text": [
      "The nearest common ancestor of\n",
      "\tGO:0048527 (lateral root development)\n",
      "and\n",
      "\tGO:0097178 (ruffle assembly)\n",
      "is\n",
      "\tGO:0008150 (biological_process)\n"
     ]
    }
   ],
   "source": [
    "print('The nearest common ancestor of\\n\\t{} ({})\\nand\\n\\t{} ({})\\nis\\n\\t{} ({})'\n",
    "      .format(go_id, go[go_id].name, \n",
    "              go_id1, go[go_id1].name,\n",
    "              go_id_id1_dca, go[go_id_id1_dca].name))"
   ]
  },
  {
   "cell_type": "markdown",
   "metadata": {},
   "source": [
    "### Exercises 2.2\n",
    "Using the visualisation function in GOATools, answer the following questions.\n",
    "\n",
    "#### Question 2.2.a. \n",
    "Produce a figure similar to that in Figure 1 of the chapter, for the GO term <code>GO:0097190</code>. From the visualisation, what is the name of this term?"
   ]
  },
  {
   "cell_type": "markdown",
   "metadata": {},
   "source": [
    "#### Answer 2.2.a"
   ]
  },
  {
   "cell_type": "markdown",
   "metadata": {},
   "source": [
    "We first have to create the query to return the record for the GO term <code>GO:0097190</code>."
   ]
  },
  {
   "cell_type": "code",
   "execution_count": 20,
   "metadata": {
    "ExecuteTime": {
     "end_time": "2018-08-02T16:52:28.564291Z",
     "start_time": "2018-08-02T16:52:28.559683Z"
    }
   },
   "outputs": [],
   "source": [
    "go_id2 = 'GO:0097192'\n",
    "rec = go[go_id2]"
   ]
  },
  {
   "cell_type": "markdown",
   "metadata": {},
   "source": [
    "We then need to decide where to save the image file."
   ]
  },
  {
   "cell_type": "code",
   "execution_count": 21,
   "metadata": {
    "ExecuteTime": {
     "end_time": "2018-08-02T16:52:28.571204Z",
     "start_time": "2018-08-02T16:52:28.567630Z"
    }
   },
   "outputs": [],
   "source": [
    "lineage_png = go_id2 + '-lineage.png'"
   ]
  },
  {
   "cell_type": "markdown",
   "metadata": {},
   "source": [
    "Then we can draw the lineage, as so (you may need to install the pygraphviz library via pip if needed):"
   ]
  },
  {
   "cell_type": "code",
   "execution_count": 39,
   "metadata": {
    "ExecuteTime": {
     "end_time": "2018-08-02T16:53:07.694316Z",
     "start_time": "2018-08-02T16:53:07.680837Z"
    }
   },
   "outputs": [
    {
     "ename": "ModuleNotFoundError",
     "evalue": "No module named 'pygraphviz'",
     "output_type": "error",
     "traceback": [
      "\u001b[0;31m---------------------------------------------------------------------------\u001b[0m",
      "\u001b[0;31mModuleNotFoundError\u001b[0m                       Traceback (most recent call last)",
      "\u001b[0;32m<ipython-input-39-a2134988f4ec>\u001b[0m in \u001b[0;36m<module>\u001b[0;34m()\u001b[0m\n\u001b[0;32m----> 1\u001b[0;31m \u001b[0mgo\u001b[0m\u001b[0;34m.\u001b[0m\u001b[0mdraw_lineage\u001b[0m\u001b[0;34m(\u001b[0m\u001b[0;34m[\u001b[0m\u001b[0mrec\u001b[0m\u001b[0;34m]\u001b[0m\u001b[0;34m,\u001b[0m \u001b[0mlineage_img\u001b[0m\u001b[0;34m=\u001b[0m\u001b[0mlineage_png\u001b[0m\u001b[0;34m)\u001b[0m\u001b[0;34m\u001b[0m\u001b[0m\n\u001b[0m",
      "\u001b[0;32m/anaconda3/lib/python3.6/site-packages/goatools/obo_parser.py\u001b[0m in \u001b[0;36mdraw_lineage\u001b[0;34m(self, recs, nodecolor, edgecolor, dpi, lineage_img, engine, gml, draw_parents, draw_children)\u001b[0m\n\u001b[1;32m    606\u001b[0m             grph = self.make_graph_pygraphviz(recs, nodecolor, edgecolor, dpi,\n\u001b[1;32m    607\u001b[0m                                               \u001b[0mdraw_parents\u001b[0m\u001b[0;34m=\u001b[0m\u001b[0mdraw_parents\u001b[0m\u001b[0;34m,\u001b[0m\u001b[0;34m\u001b[0m\u001b[0m\n\u001b[0;32m--> 608\u001b[0;31m                                               draw_children=draw_children)\n\u001b[0m\u001b[1;32m    609\u001b[0m         \u001b[0;32melse\u001b[0m\u001b[0;34m:\u001b[0m\u001b[0;34m\u001b[0m\u001b[0m\n\u001b[1;32m    610\u001b[0m             grph = self.make_graph_pydot(recs, nodecolor, edgecolor, dpi,\n",
      "\u001b[0;32m/anaconda3/lib/python3.6/site-packages/goatools/obo_parser.py\u001b[0m in \u001b[0;36mmake_graph_pygraphviz\u001b[0;34m(self, recs, nodecolor, edgecolor, dpi, draw_parents, draw_children)\u001b[0m\n\u001b[1;32m    556\u001b[0m                               draw_parents=True, draw_children=True):\n\u001b[1;32m    557\u001b[0m         \u001b[0;34m\"\"\"Draw AMIGO style network, lineage containing one query record.\"\"\"\u001b[0m\u001b[0;34m\u001b[0m\u001b[0m\n\u001b[0;32m--> 558\u001b[0;31m         \u001b[0;32mimport\u001b[0m \u001b[0mpygraphviz\u001b[0m \u001b[0;32mas\u001b[0m \u001b[0mpgv\u001b[0m\u001b[0;34m\u001b[0m\u001b[0m\n\u001b[0m\u001b[1;32m    559\u001b[0m \u001b[0;34m\u001b[0m\u001b[0m\n\u001b[1;32m    560\u001b[0m         \u001b[0mgrph\u001b[0m \u001b[0;34m=\u001b[0m \u001b[0mpgv\u001b[0m\u001b[0;34m.\u001b[0m\u001b[0mAGraph\u001b[0m\u001b[0;34m(\u001b[0m\u001b[0mname\u001b[0m\u001b[0;34m=\u001b[0m\u001b[0;34m\"GO tree\"\u001b[0m\u001b[0;34m)\u001b[0m\u001b[0;34m\u001b[0m\u001b[0m\n",
      "\u001b[0;31mModuleNotFoundError\u001b[0m: No module named 'pygraphviz'"
     ]
    }
   ],
   "source": [
    "go.draw_lineage([rec], lineage_img=lineage_png)"
   ]
  },
  {
   "cell_type": "markdown",
   "metadata": {},
   "source": [
    "*Note*, the GOATools <code>draw_lineage</code> function will output a PNG to <code>./GO_lineage.png</code>, or whatever is defined by the argument <code>lineage_img</code>. This can be viewed with your system viewer, or included here by running something similar to the following code. It may be necessary to double click on the image and scroll, in order to see the detail."
   ]
  },
  {
   "cell_type": "code",
   "execution_count": null,
   "metadata": {
    "ExecuteTime": {
     "end_time": "2018-08-02T16:52:28.680264Z",
     "start_time": "2018-08-02T16:52:27.404Z"
    },
    "scrolled": true
   },
   "outputs": [],
   "source": [
    "from IPython.display import Image\n",
    "Image(lineage_png)"
   ]
  },
  {
   "cell_type": "markdown",
   "metadata": {},
   "source": [
    "#### Question 2.2.b.\n",
    "Using this figure, what is the most specific term that is in the parent terms of both <code>GO:0097191</code> and <code>GO:0038034</code>? This is also referred to as the lowest common ancestor."
   ]
  },
  {
   "cell_type": "markdown",
   "metadata": {},
   "source": [
    "#### Answer 2.2.b."
   ]
  },
  {
   "cell_type": "markdown",
   "metadata": {},
   "source": [
    "This is possible to read off the graph - the term <code>GO:0007165</code>, _signal transduction_."
   ]
  },
  {
   "cell_type": "markdown",
   "metadata": {},
   "source": [
    "### Exercises 2.3\n",
    "Using the <code>get_oboxml()</code> function (you may need to install the package xmltodict using pip), listed in the chapter in Source Code 2.1, answer the following questions."
   ]
  },
  {
   "cell_type": "code",
   "execution_count": null,
   "metadata": {
    "ExecuteTime": {
     "end_time": "2018-08-02T16:52:28.681804Z",
     "start_time": "2018-08-02T16:52:27.504Z"
    }
   },
   "outputs": [],
   "source": [
    "from future.standard_library import install_aliases\n",
    "install_aliases()\n",
    "from urllib.request import urlopen\n",
    "import xmltodict\n",
    "\n",
    "def get_oboxml(go_id):\n",
    "    \"\"\"\n",
    "        This function retrieves the OBO-XML for a given Gene Ontology term,\n",
    "        using EMBL-EBI's QuickGO browser.\n",
    "        Input: go_id - a valid Gene Ontology ID, e.g. GO:0048527.\n",
    "    \"\"\"\n",
    "    quickgo_url = \"http://www.ebi.ac.uk/QuickGO/GTerm?id=\"+go_id+\"&format=oboxml\"\n",
    "    oboxml = urlopen(quickgo_url)\n",
    "    \n",
    "    # Check the response\n",
    "    if(oboxml.getcode() == 200):\n",
    "        obodict = xmltodict.parse(oboxml.read())\n",
    "        return obodict\n",
    "    else:\n",
    "        raise ValueError(\"Couldn't receive OBOXML from QuickGO. Check GO ID and try again.\")"
   ]
  },
  {
   "cell_type": "markdown",
   "metadata": {},
   "source": [
    "#### Question 2.3.a. \n",
    "Find the name and description of the GO term <code>GO:0048527</code>. _Hint_: print out the dictionary returned by the function and study its structure.\n"
   ]
  },
  {
   "cell_type": "markdown",
   "metadata": {},
   "source": [
    "#### Answer 2.3.a.\n",
    "First, let's get the OBO-XML."
   ]
  },
  {
   "cell_type": "code",
   "execution_count": null,
   "metadata": {
    "ExecuteTime": {
     "end_time": "2018-08-02T16:52:28.683459Z",
     "start_time": "2018-08-02T16:52:27.581Z"
    }
   },
   "outputs": [],
   "source": [
    "obo_dict = get_oboxml(go_id)"
   ]
  },
  {
   "cell_type": "markdown",
   "metadata": {},
   "source": [
    "It might be useful to study the structure of this dictionary, in order to answer this question."
   ]
  },
  {
   "cell_type": "code",
   "execution_count": null,
   "metadata": {
    "ExecuteTime": {
     "end_time": "2018-08-02T16:52:28.684697Z",
     "start_time": "2018-08-02T16:52:27.602Z"
    }
   },
   "outputs": [],
   "source": [
    "print(obo_dict)"
   ]
  },
  {
   "cell_type": "markdown",
   "metadata": {},
   "source": [
    "It might be easier to visualise a complex structure, such as this dictionary. This can be done by plotting the keys, using the <code>visualisedictionary</code> library (which you may need to install)."
   ]
  },
  {
   "cell_type": "code",
   "execution_count": null,
   "metadata": {
    "ExecuteTime": {
     "end_time": "2018-08-02T16:52:28.686337Z",
     "start_time": "2018-08-02T16:52:27.629Z"
    }
   },
   "outputs": [],
   "source": [
    "import visualisedictionary as vd\n",
    "\n",
    "# Create pygraphviz graph with visualisedictionary.KeysGraph()\n",
    "G = vd.KeysGraph(obo_dict)\n",
    "# Draw and save this.\n",
    "vd_filename = './OBOXML-Dictionary-' + go_id + '.png'\n",
    "G.draw(vd_filename)\n",
    "\n",
    "# Draw this image here.\n",
    "Image(vd_filename)"
   ]
  },
  {
   "cell_type": "markdown",
   "metadata": {},
   "source": [
    "Now we can extract the relevant data."
   ]
  },
  {
   "cell_type": "code",
   "execution_count": null,
   "metadata": {
    "ExecuteTime": {
     "end_time": "2018-08-02T16:52:28.688074Z",
     "start_time": "2018-08-02T16:52:27.651Z"
    }
   },
   "outputs": [],
   "source": [
    "print('Description of {} is:\\n\\t{}'.format(go_id, obo_dict['obo']['term']['def']['defstr']))"
   ]
  },
  {
   "cell_type": "markdown",
   "metadata": {},
   "source": [
    "#### Question 2.3.b.\n",
    "Look at the difference in the OBO-XML output for the GO terms <code>GO:0048527</code> and <code>GO:0097178</code>, then generate a table of the synonymous relationships of the term <code>GO:0097178</code>."
   ]
  },
  {
   "cell_type": "markdown",
   "metadata": {},
   "source": [
    "#### Answer 2.3.b."
   ]
  },
  {
   "cell_type": "markdown",
   "metadata": {},
   "source": [
    "Firstly, generate the OBO-XML dictionary for this new term."
   ]
  },
  {
   "cell_type": "code",
   "execution_count": null,
   "metadata": {
    "ExecuteTime": {
     "end_time": "2018-08-02T16:52:28.689689Z",
     "start_time": "2018-08-02T16:52:27.729Z"
    }
   },
   "outputs": [],
   "source": [
    "obo_dict1 = get_oboxml(go_id1)"
   ]
  },
  {
   "cell_type": "markdown",
   "metadata": {},
   "source": [
    "We can then extract the synonyms as follows."
   ]
  },
  {
   "cell_type": "code",
   "execution_count": null,
   "metadata": {
    "ExecuteTime": {
     "end_time": "2018-08-02T16:52:28.691279Z",
     "start_time": "2018-08-02T16:52:27.764Z"
    }
   },
   "outputs": [],
   "source": [
    "synonyms = obo_dict1['obo']['term']['synonym']\n",
    "print(synonyms)"
   ]
  },
  {
   "cell_type": "markdown",
   "metadata": {},
   "source": [
    "As an example, this can be nicely formatted using the <code>AsciiTable</code> module in the terminaltables package (which you may need to install)."
   ]
  },
  {
   "cell_type": "code",
   "execution_count": null,
   "metadata": {
    "ExecuteTime": {
     "end_time": "2018-08-02T16:52:28.693019Z",
     "start_time": "2018-08-02T16:52:27.786Z"
    }
   },
   "outputs": [],
   "source": [
    "from terminaltables import AsciiTable\n",
    "\n",
    "# Initialise table data and set header\n",
    "table_data = [['Type', 'Synonym']]\n",
    "for synonym in synonyms:\n",
    "    table_data.append([synonym['@scope'], synonym['synonym_text']])\n",
    "print(AsciiTable(table_data).table)"
   ]
  },
  {
   "cell_type": "markdown",
   "metadata": {},
   "source": [
    "## Section 3 - Retrieving GO annotations\n",
    "\n",
    "In this section we will look at how to manipulate the Gene Association File (GAF) standard, using a parser from the BioPython package."
   ]
  },
  {
   "cell_type": "code",
   "execution_count": null,
   "metadata": {
    "ExecuteTime": {
     "end_time": "2018-08-02T16:52:28.694812Z",
     "start_time": "2018-08-02T16:52:27.821Z"
    }
   },
   "outputs": [],
   "source": [
    "import Bio.UniProt.GOA as GOA"
   ]
  },
  {
   "cell_type": "markdown",
   "metadata": {},
   "source": [
    "First we need to download a GAF file from the EBI FTP website, which hosts the current and all previous UniProt-GOA annotations. The links to these can be found on the <a href=\"https://www.ebi.ac.uk/GOA/downloads\">EBI GOA Downloads page</a>. "
   ]
  },
  {
   "cell_type": "markdown",
   "metadata": {},
   "source": [
    "As an example, we are going to download the reduced GAF file containing gene association data for *Arabidopsis Thaliana*."
   ]
  },
  {
   "cell_type": "code",
   "execution_count": null,
   "metadata": {
    "ExecuteTime": {
     "end_time": "2018-08-02T16:52:28.696896Z",
     "start_time": "2018-08-02T16:52:27.893Z"
    }
   },
   "outputs": [],
   "source": [
    "import os\n",
    "from ftplib import FTP\n",
    "arab_uri = '/pub/databases/GO/goa/ARABIDOPSIS/goa_arabidopsis.gaf.gz'\n",
    "arab_fn = arab_uri.split('/')[-1]\n",
    "\n",
    "# Check if the file exists already\n",
    "arab_gaf = os.path.join(data_folder, arab_fn)\n",
    "if(not os.path.isfile(arab_gaf)):\n",
    "    # Login to FTP server\n",
    "    ebi_ftp = FTP('ftp.ebi.ac.uk')\n",
    "    ebi_ftp.login() # Logs in anonymously\n",
    "    \n",
    "    # Download\n",
    "    with open(arab_gaf,'wb') as arab_fp:\n",
    "        ebi_ftp.retrbinary('RETR {}'.format(arab_uri), arab_fp.write)\n",
    "        \n",
    "    # Logout from FTP server\n",
    "    ebi_ftp.quit()"
   ]
  },
  {
   "cell_type": "markdown",
   "metadata": {},
   "source": [
    "Now we can load all the annotations into a dictionary, using the iterator from the BioPython package (<code>Bio.UniProt.GOA.gafiterator</code>)."
   ]
  },
  {
   "cell_type": "code",
   "execution_count": null,
   "metadata": {
    "ExecuteTime": {
     "end_time": "2018-08-02T16:52:28.698549Z",
     "start_time": "2018-08-02T16:52:27.936Z"
    }
   },
   "outputs": [],
   "source": [
    "import gzip\n",
    "\n",
    "# File is a gunzip file, so we need to open it in this way\n",
    "with gzip.open(arab_gaf, 'rt') as arab_gaf_fp:\n",
    "    arab_funcs = {}  # Initialise the dictionary of functions\n",
    "    \n",
    "    # Iterate on each function using Bio.UniProt.GOA library.\n",
    "    for entry in GOA.gafiterator(arab_gaf_fp):\n",
    "        uniprot_id = entry.pop('DB_Object_ID')\n",
    "        arab_funcs[uniprot_id] = entry"
   ]
  },
  {
   "cell_type": "markdown",
   "metadata": {},
   "source": [
    "Now we have a structure of the annotations which can manipulated. Each of the entries have been loaded in the following form.\n"
   ]
  },
  {
   "cell_type": "code",
   "execution_count": null,
   "metadata": {
    "ExecuteTime": {
     "end_time": "2018-08-02T16:52:28.699896Z",
     "start_time": "2018-08-02T16:52:27.979Z"
    }
   },
   "outputs": [],
   "source": [
    "print(arab_funcs[list(arab_funcs.keys())[0]])"
   ]
  },
  {
   "cell_type": "markdown",
   "metadata": {},
   "source": [
    "### Exercises 3.1"
   ]
  },
  {
   "cell_type": "markdown",
   "metadata": {},
   "source": [
    "#### Question 3.1.a.\n",
    "Find the total number of annotations for Arabidopsis thaliana with <code>NOT</code> qualifiers. What is this as a percentage of the total number of annotations for this species?"
   ]
  },
  {
   "cell_type": "markdown",
   "metadata": {},
   "source": [
    "#### Answer 3.1.a."
   ]
  },
  {
   "cell_type": "markdown",
   "metadata": {},
   "source": [
    "This is possible by looping through each of the values and checking whether <code>NOT</code> is listed as one of the qualifiers.\n",
    "\n",
    "Even though here it doesn't make a difference if we check either\n",
    "\n",
    "<code>if 'NOT' in func['Qualifier']</code>\n",
    "\n",
    "or\n",
    "\n",
    "<code>if 'NOT' in func['Qualifier'][0]</code>\n",
    "\n",
    "the first is preferred. This is because there can be multiple qualifiers for a given annotation."
   ]
  },
  {
   "cell_type": "code",
   "execution_count": null,
   "metadata": {
    "ExecuteTime": {
     "end_time": "2018-08-02T16:52:28.701307Z",
     "start_time": "2018-08-02T16:52:28.211Z"
    }
   },
   "outputs": [],
   "source": [
    "not_count = 0\n",
    "total_count = len(arab_funcs)\n",
    "for func in arab_funcs.values():\n",
    "    if 'NOT' in func['Qualifier']:\n",
    "        not_count += 1\n",
    "        \n",
    "\n",
    "print('Total count of NOT qualifiers: {} ({}%)'.format(not_count, round(((float(not_count)/float(total_count))*100),2)))\n",
    "print('Total number of annotations: {}'.format(total_count))"
   ]
  },
  {
   "cell_type": "markdown",
   "metadata": {},
   "source": [
    "#### Question 3.1.b.\n",
    "How many genes (of _Arabidopsis thaliana_) have the annotation <code>GO:0048527</code>?"
   ]
  },
  {
   "cell_type": "markdown",
   "metadata": {},
   "source": [
    "#### Answer 3.1.b."
   ]
  },
  {
   "cell_type": "markdown",
   "metadata": {},
   "source": [
    "This is done by checking each annotation if its <code>GO_ID</code> entry is equal to the required term's ID.\n",
    "\n",
    "Further, here there has been a check on the taxonomic ID. This isn't strictly necessary, but would be required if the annotations database contained multiple species."
   ]
  },
  {
   "cell_type": "code",
   "execution_count": null,
   "metadata": {
    "ExecuteTime": {
     "end_time": "2018-08-02T16:52:28.702804Z",
     "start_time": "2018-08-02T16:52:28.289Z"
    }
   },
   "outputs": [],
   "source": [
    "arab_tax_id = 3702  # This isn't necessary here, but would be with the full data set.\n",
    "\n",
    "annot_count = 0\n",
    "counted_gene = []\n",
    "for uniprot_id in arab_funcs:\n",
    "    if('taxon:' + str(arab_tax_id) in arab_funcs[uniprot_id]['Taxon_ID']):\n",
    "        if((arab_funcs[uniprot_id]['GO_ID'] == go_id)):\n",
    "            counted_gene.append(uniprot_id)\n",
    "            annot_count += 1\n",
    "del counted_gene"
   ]
  },
  {
   "cell_type": "markdown",
   "metadata": {},
   "source": [
    "We can now find the number of genes:"
   ]
  },
  {
   "cell_type": "code",
   "execution_count": null,
   "metadata": {
    "ExecuteTime": {
     "end_time": "2018-08-02T16:52:28.704668Z",
     "start_time": "2018-08-02T16:52:28.311Z"
    }
   },
   "outputs": [],
   "source": [
    "print(annot_count)"
   ]
  },
  {
   "cell_type": "markdown",
   "metadata": {},
   "source": [
    "#### Question 3.1.c.\n",
    "Generate a list of annotated proteins which have the word _“growth”_ in their name."
   ]
  },
  {
   "cell_type": "markdown",
   "metadata": {},
   "source": [
    "#### Answer 3.1.c."
   ]
  },
  {
   "cell_type": "markdown",
   "metadata": {},
   "source": [
    "This can be generated in the following way, checking each annotation's <code>DB_Object_Name</code> field for the keyword."
   ]
  },
  {
   "cell_type": "code",
   "execution_count": null,
   "metadata": {
    "ExecuteTime": {
     "end_time": "2018-08-02T16:52:28.706440Z",
     "start_time": "2018-08-02T16:52:28.381Z"
    }
   },
   "outputs": [],
   "source": [
    "keyword = 'growth'\n",
    "growth_dict = {x: arab_funcs[x]\n",
    "               for x in arab_funcs \n",
    "               if keyword in arab_funcs[x]['DB_Object_Name']}"
   ]
  },
  {
   "cell_type": "code",
   "execution_count": null,
   "metadata": {
    "ExecuteTime": {
     "end_time": "2018-08-02T16:52:28.708127Z",
     "start_time": "2018-08-02T16:52:28.384Z"
    }
   },
   "outputs": [],
   "source": [
    "print('UniProt IDs of annotations with \"growth\" in their name:')\n",
    "for annot in growth_dict:\n",
    "    print(\"\\t - \" + annot)\n",
    "print(\"Total: {}\".format(len(growth_dict)))"
   ]
  },
  {
   "cell_type": "markdown",
   "metadata": {},
   "source": [
    "#### Question 3.1.d.\n",
    "There are 21 evidence codes used in the Gene Ontology project. As discussed in Chapter 3, many of these are inferred, either by curators or automatically. Find the counts of each evidence code for in the Arabidopsis thaliana annotation file."
   ]
  },
  {
   "cell_type": "markdown",
   "metadata": {},
   "source": [
    "#### Answer 3.1.d."
   ]
  },
  {
   "cell_type": "markdown",
   "metadata": {},
   "source": [
    "This can be done by looping through each of the annotations, counting each of thier evidence codes and placing them into a dictionary."
   ]
  },
  {
   "cell_type": "code",
   "execution_count": null,
   "metadata": {
    "ExecuteTime": {
     "end_time": "2018-08-02T16:52:28.709737Z",
     "start_time": "2018-08-02T16:52:28.485Z"
    }
   },
   "outputs": [],
   "source": [
    "evidence_count = {}\n",
    "for annotation in arab_funcs:\n",
    "    evidence = arab_funcs[annotation]['Evidence']\n",
    "    \n",
    "    if(evidence not in evidence_count):\n",
    "        evidence_count[evidence] = 1\n",
    "    else:\n",
    "        evidence_count[evidence] += 1"
   ]
  },
  {
   "cell_type": "markdown",
   "metadata": {},
   "source": [
    "The counts are then:"
   ]
  },
  {
   "cell_type": "code",
   "execution_count": null,
   "metadata": {
    "ExecuteTime": {
     "end_time": "2018-08-02T16:52:28.711224Z",
     "start_time": "2018-08-02T16:52:28.516Z"
    }
   },
   "outputs": [],
   "source": [
    "table_data = [['Evidence Code', 'Count']]\n",
    "for code in sorted(evidence_count.keys()):\n",
    "    table_data.append([code, str(evidence_count[code])])\n",
    "print(AsciiTable(table_data).table)"
   ]
  },
  {
   "cell_type": "markdown",
   "metadata": {},
   "source": [
    "(All others are zero.)"
   ]
  },
  {
   "cell_type": "markdown",
   "metadata": {},
   "source": [
    "#### Question 3.1.f (Extension Question).\n",
    "To help visualise the counts of each evidence code found in the previous question, produce a pie chart showing the proportion of annotations with each evidence code for the *Arabidopsis thaliana* annotations dataset."
   ]
  },
  {
   "cell_type": "markdown",
   "metadata": {},
   "source": [
    "#### Answer 3.1.f."
   ]
  },
  {
   "cell_type": "markdown",
   "metadata": {},
   "source": [
    "In order to draw the pie chart, we need to convert the counts into percentages."
   ]
  },
  {
   "cell_type": "code",
   "execution_count": null,
   "metadata": {
    "ExecuteTime": {
     "end_time": "2018-08-02T16:52:28.712838Z",
     "start_time": "2018-08-02T16:52:28.639Z"
    }
   },
   "outputs": [],
   "source": [
    "evidence_percent = {}\n",
    "for code in evidence_count:\n",
    "        evidence_percent[code] = ((float(evidence_count[code]) /\n",
    "                                   float(total_count))\n",
    "                                  *100)"
   ]
  },
  {
   "cell_type": "markdown",
   "metadata": {},
   "source": [
    "Now we can have a look at the counts and percentages for each evidence code."
   ]
  },
  {
   "cell_type": "code",
   "execution_count": null,
   "metadata": {
    "ExecuteTime": {
     "end_time": "2018-08-02T16:52:28.714888Z",
     "start_time": "2018-08-02T16:52:28.667Z"
    }
   },
   "outputs": [],
   "source": [
    "table_data = [['Evidence Code', 'Count', 'Percentage (%)']]\n",
    "for code in sorted(evidence_count.keys()):\n",
    "    table_data.append([code, str(evidence_count[code]), str(round(evidence_percent[code],2))])\n",
    "print(AsciiTable(table_data).table)"
   ]
  },
  {
   "cell_type": "markdown",
   "metadata": {},
   "source": [
    "Now we are going to plot this information as a pie chart, in order to better visualise the lack of experimental evidence."
   ]
  },
  {
   "cell_type": "code",
   "execution_count": null,
   "metadata": {
    "ExecuteTime": {
     "end_time": "2018-08-02T16:52:28.716073Z",
     "start_time": "2018-08-02T16:52:28.697Z"
    }
   },
   "outputs": [],
   "source": [
    "# Declare matplotlib as inline and import pyplot\n",
    "%matplotlib inline\n",
    "from matplotlib import pyplot\n",
    "\n",
    "# Setup the figure\n",
    "fig = pyplot.figure(1, figsize=(8,8), dpi=96)\n",
    "ax=fig.add_axes([0.1,0.1,0.8,0.8])\n",
    "\n",
    "# Extract the lables / percentages\n",
    "labels = evidence_percent.keys()\n",
    "fracs = evidence_percent.values()\n",
    "\n",
    "# Make IEA obvious by \"exploding\" it\n",
    "explode = [int('IEA' in x)*0.1 for x in labels]\n",
    "\n",
    "# Plot the pie chart\n",
    "patches, texts = ax.pie(list(fracs), explode=explode, startangle=90, labeldistance=1.1) \n",
    "\n",
    "# Add \n",
    "ax.legend(patches, labels, bbox_to_anchor=(1.2, 0.75), fontsize=12)\n",
    "pyplot.show()"
   ]
  },
  {
   "cell_type": "markdown",
   "metadata": {},
   "source": [
    "## Section 4 - GO enrichment or depletion analysis"
   ]
  },
  {
   "cell_type": "markdown",
   "metadata": {},
   "source": [
    "In this section, the <code>GOEnrichmentStudy()</code> function from the GOATools library will be used to perform GO enrichment analysis."
   ]
  },
  {
   "cell_type": "code",
   "execution_count": null,
   "metadata": {
    "ExecuteTime": {
     "end_time": "2018-08-02T16:52:28.760307Z",
     "start_time": "2018-08-02T16:52:28.758Z"
    }
   },
   "outputs": [],
   "source": [
    "from goatools import GOEnrichmentStudy"
   ]
  },
  {
   "cell_type": "markdown",
   "metadata": {},
   "source": [
    "### Exercises 4.1"
   ]
  },
  {
   "cell_type": "markdown",
   "metadata": {},
   "source": [
    "Perform an enrichment analysis using the list of genes with the _\"growth\"_ keyword from exercise 3.1.c, and the GO structure from exercise 2.1."
   ]
  },
  {
   "cell_type": "markdown",
   "metadata": {},
   "source": [
    "The population is the functions observed in the _Arabidopsis thaliana_ GOA file."
   ]
  },
  {
   "cell_type": "code",
   "execution_count": 23,
   "metadata": {
    "ExecuteTime": {
     "end_time": "2018-08-02T16:52:28.843543Z",
     "start_time": "2018-08-02T16:52:28.833066Z"
    }
   },
   "outputs": [
    {
     "ename": "NameError",
     "evalue": "name 'arab_funcs' is not defined",
     "output_type": "error",
     "traceback": [
      "\u001b[0;31m---------------------------------------------------------------------------\u001b[0m",
      "\u001b[0;31mNameError\u001b[0m                                 Traceback (most recent call last)",
      "\u001b[0;32m<ipython-input-23-ac0251ba3ff7>\u001b[0m in \u001b[0;36m<module>\u001b[0;34m()\u001b[0m\n\u001b[0;32m----> 1\u001b[0;31m \u001b[0mpop\u001b[0m \u001b[0;34m=\u001b[0m \u001b[0marab_funcs\u001b[0m\u001b[0;34m.\u001b[0m\u001b[0mkeys\u001b[0m\u001b[0;34m(\u001b[0m\u001b[0;34m)\u001b[0m\u001b[0;34m\u001b[0m\u001b[0m\n\u001b[0m",
      "\u001b[0;31mNameError\u001b[0m: name 'arab_funcs' is not defined"
     ]
    }
   ],
   "source": [
    "pop = arab_funcs.keys()"
   ]
  },
  {
   "cell_type": "markdown",
   "metadata": {},
   "source": [
    "Then, we need to create a dictionary of genes with their UniProt ID as a key and their set of GO annotations as the values."
   ]
  },
  {
   "cell_type": "code",
   "execution_count": 24,
   "metadata": {
    "ExecuteTime": {
     "end_time": "2018-08-02T16:52:28.868908Z",
     "start_time": "2018-08-02T16:52:28.857176Z"
    }
   },
   "outputs": [
    {
     "ename": "NameError",
     "evalue": "name 'arab_funcs' is not defined",
     "output_type": "error",
     "traceback": [
      "\u001b[0;31m---------------------------------------------------------------------------\u001b[0m",
      "\u001b[0;31mNameError\u001b[0m                                 Traceback (most recent call last)",
      "\u001b[0;32m<ipython-input-24-bc689f57dc4e>\u001b[0m in \u001b[0;36m<module>\u001b[0;34m()\u001b[0m\n\u001b[1;32m      1\u001b[0m \u001b[0massoc\u001b[0m \u001b[0;34m=\u001b[0m \u001b[0;34m{\u001b[0m\u001b[0;34m}\u001b[0m\u001b[0;34m\u001b[0m\u001b[0m\n\u001b[1;32m      2\u001b[0m \u001b[0;34m\u001b[0m\u001b[0m\n\u001b[0;32m----> 3\u001b[0;31m \u001b[0;32mfor\u001b[0m \u001b[0mx\u001b[0m \u001b[0;32min\u001b[0m \u001b[0marab_funcs\u001b[0m\u001b[0;34m:\u001b[0m\u001b[0;34m\u001b[0m\u001b[0m\n\u001b[0m\u001b[1;32m      4\u001b[0m     \u001b[0;32mif\u001b[0m \u001b[0mx\u001b[0m \u001b[0;32mnot\u001b[0m \u001b[0;32min\u001b[0m \u001b[0massoc\u001b[0m\u001b[0;34m:\u001b[0m\u001b[0;34m\u001b[0m\u001b[0m\n\u001b[1;32m      5\u001b[0m         \u001b[0massoc\u001b[0m\u001b[0;34m[\u001b[0m\u001b[0mx\u001b[0m\u001b[0;34m]\u001b[0m \u001b[0;34m=\u001b[0m \u001b[0mset\u001b[0m\u001b[0;34m(\u001b[0m\u001b[0;34m)\u001b[0m\u001b[0;34m\u001b[0m\u001b[0m\n",
      "\u001b[0;31mNameError\u001b[0m: name 'arab_funcs' is not defined"
     ]
    }
   ],
   "source": [
    "assoc = {}\n",
    "\n",
    "for x in arab_funcs:\n",
    "    if x not in assoc:\n",
    "        assoc[x] = set()\n",
    "    assoc[x].add(str(arab_funcs[x]['GO_ID']))"
   ]
  },
  {
   "cell_type": "markdown",
   "metadata": {},
   "source": [
    "Now, the study set here is those genes with the _\"growth\"_ keyword, found previously."
   ]
  },
  {
   "cell_type": "code",
   "execution_count": 25,
   "metadata": {
    "ExecuteTime": {
     "end_time": "2018-08-02T16:52:28.897323Z",
     "start_time": "2018-08-02T16:52:28.888833Z"
    }
   },
   "outputs": [
    {
     "ename": "NameError",
     "evalue": "name 'growth_dict' is not defined",
     "output_type": "error",
     "traceback": [
      "\u001b[0;31m---------------------------------------------------------------------------\u001b[0m",
      "\u001b[0;31mNameError\u001b[0m                                 Traceback (most recent call last)",
      "\u001b[0;32m<ipython-input-25-f6602ce71b2b>\u001b[0m in \u001b[0;36m<module>\u001b[0;34m()\u001b[0m\n\u001b[0;32m----> 1\u001b[0;31m \u001b[0mstudy\u001b[0m \u001b[0;34m=\u001b[0m \u001b[0mgrowth_dict\u001b[0m\u001b[0;34m.\u001b[0m\u001b[0mkeys\u001b[0m\u001b[0;34m(\u001b[0m\u001b[0;34m)\u001b[0m\u001b[0;34m\u001b[0m\u001b[0m\n\u001b[0m",
      "\u001b[0;31mNameError\u001b[0m: name 'growth_dict' is not defined"
     ]
    }
   ],
   "source": [
    "study = growth_dict.keys()"
   ]
  },
  {
   "cell_type": "markdown",
   "metadata": {},
   "source": [
    "#### Question 4.1.a.\n",
    "Which GO term is most significantly enriched or depleted? Does this make sense?"
   ]
  },
  {
   "cell_type": "markdown",
   "metadata": {},
   "source": [
    "#### Answer 4.1.a."
   ]
  },
  {
   "cell_type": "markdown",
   "metadata": {},
   "source": [
    "Possible methods for the GOEnrichmentStudy are:"
   ]
  },
  {
   "cell_type": "code",
   "execution_count": 26,
   "metadata": {
    "ExecuteTime": {
     "end_time": "2018-08-02T16:52:28.960215Z",
     "start_time": "2018-08-02T16:52:28.956614Z"
    }
   },
   "outputs": [],
   "source": [
    "methods = [\"bonferroni\", \"sidak\", \"holm\", \"fdr\"]"
   ]
  },
  {
   "cell_type": "markdown",
   "metadata": {},
   "source": [
    "It is possible to run on all methods, or just a subset."
   ]
  },
  {
   "cell_type": "code",
   "execution_count": 27,
   "metadata": {
    "ExecuteTime": {
     "end_time": "2018-08-02T16:52:28.987356Z",
     "start_time": "2018-08-02T16:52:28.977904Z"
    }
   },
   "outputs": [
    {
     "ename": "NameError",
     "evalue": "name 'GOEnrichmentStudy' is not defined",
     "output_type": "error",
     "traceback": [
      "\u001b[0;31m---------------------------------------------------------------------------\u001b[0m",
      "\u001b[0;31mNameError\u001b[0m                                 Traceback (most recent call last)",
      "\u001b[0;32m<ipython-input-27-46bf7ec63c7d>\u001b[0m in \u001b[0;36m<module>\u001b[0;34m()\u001b[0m\n\u001b[0;32m----> 1\u001b[0;31m g = GOEnrichmentStudy(pop, assoc, go,\n\u001b[0m\u001b[1;32m      2\u001b[0m                          \u001b[0mpropagate_counts\u001b[0m\u001b[0;34m=\u001b[0m\u001b[0;32mTrue\u001b[0m\u001b[0;34m,\u001b[0m\u001b[0;34m\u001b[0m\u001b[0m\n\u001b[1;32m      3\u001b[0m                          \u001b[0malpha\u001b[0m\u001b[0;34m=\u001b[0m\u001b[0;36m0.05\u001b[0m\u001b[0;34m,\u001b[0m\u001b[0;34m\u001b[0m\u001b[0m\n\u001b[1;32m      4\u001b[0m                          methods=methods)\n\u001b[1;32m      5\u001b[0m \u001b[0mg_res\u001b[0m \u001b[0;34m=\u001b[0m \u001b[0mg\u001b[0m\u001b[0;34m.\u001b[0m\u001b[0mrun_study\u001b[0m\u001b[0;34m(\u001b[0m\u001b[0mstudy\u001b[0m\u001b[0;34m)\u001b[0m\u001b[0;34m\u001b[0m\u001b[0m\n",
      "\u001b[0;31mNameError\u001b[0m: name 'GOEnrichmentStudy' is not defined"
     ]
    }
   ],
   "source": [
    "g = GOEnrichmentStudy(pop, assoc, go,\n",
    "                         propagate_counts=True,\n",
    "                         alpha=0.05,\n",
    "                         methods=methods)\n",
    "g_res = g.run_study(study)"
   ]
  },
  {
   "cell_type": "code",
   "execution_count": null,
   "metadata": {
    "ExecuteTime": {
     "end_time": "2018-08-02T16:52:28.988463Z",
     "start_time": "2018-08-02T16:52:28.979Z"
    }
   },
   "outputs": [],
   "source": [
    "g.print_summary(g_res, min_ratio=None, pval=0.01)"
   ]
  },
  {
   "cell_type": "markdown",
   "metadata": {},
   "source": [
    "We can see that the most significant term is <code>GO:0030154</code> (cell differentiation). It makes sense that this would be associated with proteins having the keyword _\"growth\"_ in their name."
   ]
  },
  {
   "cell_type": "markdown",
   "metadata": {},
   "source": [
    "#### Question 4.1.b.\n",
    "How many terms are enriched, when using the Bonferroni corrected method and a p-value $\\le$ 0.01?"
   ]
  },
  {
   "cell_type": "markdown",
   "metadata": {},
   "source": [
    "#### Answer 4.1.b."
   ]
  },
  {
   "cell_type": "markdown",
   "metadata": {},
   "source": [
    "Perform the GO Enrichment study using the Bonferroni corrected method."
   ]
  },
  {
   "cell_type": "code",
   "execution_count": 28,
   "metadata": {
    "ExecuteTime": {
     "end_time": "2018-08-02T16:52:29.075905Z",
     "start_time": "2018-08-02T16:52:29.066115Z"
    }
   },
   "outputs": [
    {
     "ename": "NameError",
     "evalue": "name 'GOEnrichmentStudy' is not defined",
     "output_type": "error",
     "traceback": [
      "\u001b[0;31m---------------------------------------------------------------------------\u001b[0m",
      "\u001b[0;31mNameError\u001b[0m                                 Traceback (most recent call last)",
      "\u001b[0;32m<ipython-input-28-b3ce3c5c9b25>\u001b[0m in \u001b[0;36m<module>\u001b[0;34m()\u001b[0m\n\u001b[0;32m----> 1\u001b[0;31m g_bonferroni = GOEnrichmentStudy(pop, assoc, go,\n\u001b[0m\u001b[1;32m      2\u001b[0m                                  \u001b[0mpropagate_counts\u001b[0m\u001b[0;34m=\u001b[0m\u001b[0;32mTrue\u001b[0m\u001b[0;34m,\u001b[0m\u001b[0;34m\u001b[0m\u001b[0m\n\u001b[1;32m      3\u001b[0m                                  \u001b[0malpha\u001b[0m\u001b[0;34m=\u001b[0m\u001b[0;36m0.01\u001b[0m\u001b[0;34m,\u001b[0m\u001b[0;34m\u001b[0m\u001b[0m\n\u001b[1;32m      4\u001b[0m                                  methods=['bonferroni'])\n\u001b[1;32m      5\u001b[0m \u001b[0mg_bonferroni_res\u001b[0m \u001b[0;34m=\u001b[0m \u001b[0mg_bonferroni\u001b[0m\u001b[0;34m.\u001b[0m\u001b[0mrun_study\u001b[0m\u001b[0;34m(\u001b[0m\u001b[0mstudy\u001b[0m\u001b[0;34m)\u001b[0m\u001b[0;34m\u001b[0m\u001b[0m\n",
      "\u001b[0;31mNameError\u001b[0m: name 'GOEnrichmentStudy' is not defined"
     ]
    }
   ],
   "source": [
    "g_bonferroni = GOEnrichmentStudy(pop, assoc, go,\n",
    "                                 propagate_counts=True,\n",
    "                                 alpha=0.01,\n",
    "                                 methods=['bonferroni'])\n",
    "g_bonferroni_res = g_bonferroni.run_study(study)"
   ]
  },
  {
   "cell_type": "code",
   "execution_count": null,
   "metadata": {
    "ExecuteTime": {
     "end_time": "2018-08-02T16:52:29.077281Z",
     "start_time": "2018-08-02T16:52:29.067Z"
    }
   },
   "outputs": [],
   "source": [
    "s_bonferroni = []\n",
    "for x in g_bonferroni_res:\n",
    "    if x.p_bonferroni <= 0.01:\n",
    "        s_bonferroni.append((x.goterm.id, x.p_bonferroni))"
   ]
  },
  {
   "cell_type": "code",
   "execution_count": null,
   "metadata": {
    "ExecuteTime": {
     "end_time": "2018-08-02T16:52:29.079087Z",
     "start_time": "2018-08-02T16:52:29.072Z"
    }
   },
   "outputs": [],
   "source": [
    "print(s_bonferroni)"
   ]
  },
  {
   "cell_type": "markdown",
   "metadata": {},
   "source": [
    "#### Question 4.1.c.\n",
    "How many terms are enriched with false discovery rate (a.k.a. q-value) $\\le$ 0.01?"
   ]
  },
  {
   "cell_type": "markdown",
   "metadata": {},
   "source": [
    "#### Answer 4.1.c."
   ]
  },
  {
   "cell_type": "code",
   "execution_count": null,
   "metadata": {
    "ExecuteTime": {
     "end_time": "2018-08-02T16:52:29.127092Z",
     "start_time": "2018-08-02T16:52:29.124Z"
    }
   },
   "outputs": [],
   "source": [
    "g_fdr = GOEnrichmentStudy(pop, assoc, go,\n",
    "                          propagate_counts=True,\n",
    "                          alpha=0.05,\n",
    "                          methods=['fdr'])\n",
    "g_fdr_res = g_fdr.run_study(study)"
   ]
  },
  {
   "cell_type": "code",
   "execution_count": null,
   "metadata": {
    "ExecuteTime": {
     "end_time": "2018-08-02T16:52:29.134085Z",
     "start_time": "2018-08-02T16:52:29.128Z"
    }
   },
   "outputs": [],
   "source": [
    "s_fdr = []\n",
    "for x in g_fdr_res:\n",
    "    if x.p_fdr <= 0.01:\n",
    "        s_fdr.append((x.goterm.id, x.p_fdr))"
   ]
  },
  {
   "cell_type": "code",
   "execution_count": null,
   "metadata": {
    "ExecuteTime": {
     "end_time": "2018-08-02T16:52:29.136301Z",
     "start_time": "2018-08-02T16:52:29.132Z"
    }
   },
   "outputs": [],
   "source": [
    "print(s_fdr)"
   ]
  },
  {
   "cell_type": "markdown",
   "metadata": {},
   "source": [
    "## Section 5 - Computing basic semantic similarities between GO terms"
   ]
  },
  {
   "cell_type": "markdown",
   "metadata": {},
   "source": [
    "In this section we look at how to compute semantic similarity between GO terms."
   ]
  },
  {
   "cell_type": "code",
   "execution_count": 29,
   "metadata": {
    "ExecuteTime": {
     "end_time": "2018-08-02T16:52:29.199383Z",
     "start_time": "2018-08-02T16:52:29.190516Z"
    }
   },
   "outputs": [],
   "source": [
    "from collections import Counter\n",
    "class TermCounts():\n",
    "    '''\n",
    "        TermCounts counts the term counts for each \n",
    "    '''\n",
    "    def __init__(self, go, annots):\n",
    "        '''\n",
    "            Initialise the counts and  \n",
    "        '''\n",
    "        # Backup\n",
    "        self._go = go\n",
    "        \n",
    "        # Initialise the counters\n",
    "        self._counts = Counter()\n",
    "        self._aspect_counts = Counter()\n",
    "        \n",
    "        # Fill the counters...\n",
    "        self._count_terms(go, annots)\n",
    "        \n",
    "    def _count_terms(self, go, annots):\n",
    "        '''\n",
    "            Fills in the counts and overall aspect counts.\n",
    "        '''\n",
    "        for x in annots:\n",
    "            # Extract term information\n",
    "            go_id = annots[x]['GO_ID']\n",
    "            namespace = go[go_id].namespace\n",
    "\n",
    "            self._counts[go_id] += 1\n",
    "            rec = go[go_id]\n",
    "            parents = rec.get_all_parents()\n",
    "            for p in parents:\n",
    "                self._counts[p] += 1\n",
    "            \n",
    "            self._aspect_counts[namespace] += 1\n",
    "            \n",
    "    def get_count(self, go_id):\n",
    "        '''\n",
    "            Returns the count of that GO term observed in the annotations.\n",
    "        '''\n",
    "        return self._counts[go_id]\n",
    "        \n",
    "    def get_total_count(self, aspect):\n",
    "        '''\n",
    "            Gets the total count that's been precomputed.\n",
    "        '''\n",
    "        return self._aspect_counts[aspect]\n",
    "    \n",
    "    def get_term_freq(self, go_id):\n",
    "        '''\n",
    "            Returns the frequency at which a particular GO term has \n",
    "            been observed in the annotations.\n",
    "        '''\n",
    "        try:\n",
    "            namespace = self._go[go_id].namespace\n",
    "            freq = float(self.get_count(go_id)) / float(self.get_total_count(namespace))\n",
    "        except ZeroDivisionError:\n",
    "            freq = 0\n",
    "        \n",
    "        return freq"
   ]
  },
  {
   "cell_type": "markdown",
   "metadata": {},
   "source": [
    "#### Question 5.1.a.\n",
    "<code>GO:0048364</code> (root development) and <code>GO:0044707</code> (single-multicellular organism process) are two GO terms taken from Figure 1. Calculate the semantic similarity between them based on the inverse of the semantic distance (number of branches separating them)."
   ]
  },
  {
   "cell_type": "markdown",
   "metadata": {},
   "source": [
    "#### Answer 5.1.a."
   ]
  },
  {
   "cell_type": "markdown",
   "metadata": {},
   "source": [
    "First we need to write a function that calculates the minimum number of branches connecting two GO terms."
   ]
  },
  {
   "cell_type": "code",
   "execution_count": 30,
   "metadata": {
    "ExecuteTime": {
     "end_time": "2018-08-02T16:52:29.260615Z",
     "start_time": "2018-08-02T16:52:29.256444Z"
    }
   },
   "outputs": [],
   "source": [
    "def min_branch_length(go_id1, go_id2, go):\n",
    "    '''\n",
    "        Finds the minimum branch length between two terms in the GO DAG.\n",
    "    '''\n",
    "    # First get the deepest common ancestor\n",
    "    dca = deepest_common_ancestor([go_id1, go_id2], go)\n",
    "    \n",
    "    # Then get the distance from the DCA to each term\n",
    "    dca_depth = go[dca].depth\n",
    "    d1 = go[go_id1].depth - dca_depth\n",
    "    d2 = go[go_id2].depth - dca_depth\n",
    "    \n",
    "    # Return the total distance - i.e., to the deepest common ancestor and back.\n",
    "    return d1 + d2"
   ]
  },
  {
   "cell_type": "code",
   "execution_count": 31,
   "metadata": {
    "ExecuteTime": {
     "end_time": "2018-08-02T16:52:29.266437Z",
     "start_time": "2018-08-02T16:52:29.263416Z"
    },
    "scrolled": true
   },
   "outputs": [],
   "source": [
    "go_id3 = 'GO:0048364'\n",
    "go_id4 = 'GO:0044707'"
   ]
  },
  {
   "cell_type": "markdown",
   "metadata": {},
   "source": [
    "Now we can calculate the semantic distance and semantic similarity, as so:"
   ]
  },
  {
   "cell_type": "code",
   "execution_count": 32,
   "metadata": {
    "ExecuteTime": {
     "end_time": "2018-08-02T16:52:29.301141Z",
     "start_time": "2018-08-02T16:52:29.297501Z"
    }
   },
   "outputs": [],
   "source": [
    "def semantic_distance(go_id1, go_id2, go):\n",
    "    '''\n",
    "        Finds the semantic distance (minimum number of connecting branches) \n",
    "        between two GO terms.\n",
    "    '''\n",
    "    return min_branch_length(go_id1, go_id2, go)\n",
    "\n",
    "def semantic_similarity(go_id1, go_id2, go):\n",
    "    '''\n",
    "        Finds the semantic similarity (inverse of the semantic distance) \n",
    "        between two GO terms.\n",
    "    '''\n",
    "    return 1.0 / float(semantic_distance(go_id1, go_id2, go))"
   ]
  },
  {
   "cell_type": "code",
   "execution_count": 33,
   "metadata": {
    "ExecuteTime": {
     "end_time": "2018-08-02T16:52:29.308610Z",
     "start_time": "2018-08-02T16:52:29.304579Z"
    }
   },
   "outputs": [
    {
     "name": "stdout",
     "output_type": "stream",
     "text": [
      "The semantic similarity between terms GO:0048364 and GO:0044707 is 0.2.\n"
     ]
    }
   ],
   "source": [
    "sim = semantic_similarity(go_id3, go_id4, go)\n",
    "print('The semantic similarity between terms {} and {} is {}.'.format(go_id3, go_id4, sim))"
   ]
  },
  {
   "cell_type": "markdown",
   "metadata": {},
   "source": [
    "#### Question 5.1.b.\n",
    "Calculate the  the information content (IC) of the GO term <code>GO:0048364</code> (root development), based on the frequency of observation in _Arabidopsis thaliana_."
   ]
  },
  {
   "cell_type": "markdown",
   "metadata": {},
   "source": [
    "#### Answer 5.1.b."
   ]
  },
  {
   "cell_type": "markdown",
   "metadata": {},
   "source": [
    "First we need to define what the information content is."
   ]
  },
  {
   "cell_type": "code",
   "execution_count": 34,
   "metadata": {
    "ExecuteTime": {
     "end_time": "2018-08-02T16:52:29.380610Z",
     "start_time": "2018-08-02T16:52:29.376881Z"
    }
   },
   "outputs": [],
   "source": [
    "import math\n",
    "\n",
    "def ic(go_id, termcounts):\n",
    "    '''\n",
    "        Calculates the information content of a GO term.\n",
    "    '''\n",
    "    # Get the observed frequency of the GO term\n",
    "    freq = termcounts.get_term_freq(go_id)\n",
    "\n",
    "    # Calculate the information content (i.e., -log(\"freq of GO term\")\n",
    "    return -1.0 * math.log(freq)"
   ]
  },
  {
   "cell_type": "markdown",
   "metadata": {},
   "source": [
    "Then we can calculate the information content of the single term, <code>GO:0048364</code>."
   ]
  },
  {
   "cell_type": "code",
   "execution_count": 35,
   "metadata": {
    "ExecuteTime": {
     "end_time": "2018-08-02T16:52:29.410784Z",
     "start_time": "2018-08-02T16:52:29.401275Z"
    }
   },
   "outputs": [
    {
     "ename": "NameError",
     "evalue": "name 'arab_funcs' is not defined",
     "output_type": "error",
     "traceback": [
      "\u001b[0;31m---------------------------------------------------------------------------\u001b[0m",
      "\u001b[0;31mNameError\u001b[0m                                 Traceback (most recent call last)",
      "\u001b[0;32m<ipython-input-35-88f0cb74635e>\u001b[0m in \u001b[0;36m<module>\u001b[0;34m()\u001b[0m\n\u001b[1;32m      1\u001b[0m \u001b[0;31m# First get the counts of each GO term.\u001b[0m\u001b[0;34m\u001b[0m\u001b[0;34m\u001b[0m\u001b[0m\n\u001b[0;32m----> 2\u001b[0;31m \u001b[0mtermcounts\u001b[0m \u001b[0;34m=\u001b[0m \u001b[0mTermCounts\u001b[0m\u001b[0;34m(\u001b[0m\u001b[0mgo\u001b[0m\u001b[0;34m,\u001b[0m \u001b[0marab_funcs\u001b[0m\u001b[0;34m)\u001b[0m\u001b[0;34m\u001b[0m\u001b[0m\n\u001b[0m\u001b[1;32m      3\u001b[0m \u001b[0;34m\u001b[0m\u001b[0m\n\u001b[1;32m      4\u001b[0m \u001b[0;31m# Calculate the information content\u001b[0m\u001b[0;34m\u001b[0m\u001b[0;34m\u001b[0m\u001b[0m\n\u001b[1;32m      5\u001b[0m \u001b[0minfocontent\u001b[0m \u001b[0;34m=\u001b[0m \u001b[0mic\u001b[0m\u001b[0;34m(\u001b[0m\u001b[0mgo_id\u001b[0m\u001b[0;34m,\u001b[0m \u001b[0mtermcounts\u001b[0m\u001b[0;34m)\u001b[0m\u001b[0;34m\u001b[0m\u001b[0m\n",
      "\u001b[0;31mNameError\u001b[0m: name 'arab_funcs' is not defined"
     ]
    }
   ],
   "source": [
    "# First get the counts of each GO term.\n",
    "termcounts = TermCounts(go, arab_funcs)\n",
    "\n",
    "# Calculate the information content\n",
    "infocontent = ic(go_id, termcounts)"
   ]
  },
  {
   "cell_type": "code",
   "execution_count": null,
   "metadata": {
    "ExecuteTime": {
     "end_time": "2018-08-02T16:52:29.411999Z",
     "start_time": "2018-08-02T16:52:29.403Z"
    }
   },
   "outputs": [],
   "source": [
    "print(infocontent)"
   ]
  },
  {
   "cell_type": "markdown",
   "metadata": {},
   "source": [
    "#### Question 5.1.c.\n",
    "Calculate the Resnik similarity measure between the same two terms as in 5.1.a."
   ]
  },
  {
   "cell_type": "markdown",
   "metadata": {},
   "source": [
    "#### Answer 5.1.c."
   ]
  },
  {
   "cell_type": "markdown",
   "metadata": {},
   "source": [
    "Recall that Resnik's similarity measure is defined as the information content of the most informative common ancestor. That is, the most specific common parent-term in the GO."
   ]
  },
  {
   "cell_type": "code",
   "execution_count": 36,
   "metadata": {
    "ExecuteTime": {
     "end_time": "2018-08-02T16:52:29.482729Z",
     "start_time": "2018-08-02T16:52:29.479829Z"
    }
   },
   "outputs": [],
   "source": [
    "def resnik_sim(go_id1, go_id2, go, termcounts):\n",
    "    '''\n",
    "        Computes Resnik's similarity measure.\n",
    "    '''\n",
    "    msca = deepest_common_ancestor([go_id1, go_id2], go)\n",
    "    return ic(msca, termcounts)"
   ]
  },
  {
   "cell_type": "markdown",
   "metadata": {},
   "source": [
    "Then we can calculate this as follows"
   ]
  },
  {
   "cell_type": "code",
   "execution_count": 37,
   "metadata": {
    "ExecuteTime": {
     "end_time": "2018-08-02T16:52:29.513550Z",
     "start_time": "2018-08-02T16:52:29.504881Z"
    }
   },
   "outputs": [
    {
     "ename": "NameError",
     "evalue": "name 'termcounts' is not defined",
     "output_type": "error",
     "traceback": [
      "\u001b[0;31m---------------------------------------------------------------------------\u001b[0m",
      "\u001b[0;31mNameError\u001b[0m                                 Traceback (most recent call last)",
      "\u001b[0;32m<ipython-input-37-1d48ed394a2a>\u001b[0m in \u001b[0;36m<module>\u001b[0;34m()\u001b[0m\n\u001b[0;32m----> 1\u001b[0;31m \u001b[0msim_r\u001b[0m \u001b[0;34m=\u001b[0m \u001b[0mresnik_sim\u001b[0m\u001b[0;34m(\u001b[0m\u001b[0mgo_id3\u001b[0m\u001b[0;34m,\u001b[0m \u001b[0mgo_id4\u001b[0m\u001b[0;34m,\u001b[0m \u001b[0mgo\u001b[0m\u001b[0;34m,\u001b[0m \u001b[0mtermcounts\u001b[0m\u001b[0;34m)\u001b[0m\u001b[0;34m\u001b[0m\u001b[0m\n\u001b[0m",
      "\u001b[0;31mNameError\u001b[0m: name 'termcounts' is not defined"
     ]
    }
   ],
   "source": [
    "sim_r = resnik_sim(go_id3, go_id4, go, termcounts)"
   ]
  },
  {
   "cell_type": "code",
   "execution_count": null,
   "metadata": {
    "ExecuteTime": {
     "end_time": "2018-08-02T16:52:29.514444Z",
     "start_time": "2018-08-02T16:52:29.507Z"
    }
   },
   "outputs": [],
   "source": [
    "print('Resnik similarity score: {}'.format(sim_r))"
   ]
  }
 ],
 "metadata": {
  "hide_input": false,
  "kernelspec": {
   "display_name": "Python 3",
   "language": "python",
   "name": "python3"
  },
  "language_info": {
   "codemirror_mode": {
    "name": "ipython",
    "version": 3
   },
   "file_extension": ".py",
   "mimetype": "text/x-python",
   "name": "python",
   "nbconvert_exporter": "python",
   "pygments_lexer": "ipython3",
   "version": "3.6.5"
  },
  "varInspector": {
   "cols": {
    "lenName": 16,
    "lenType": 16,
    "lenVar": 40
   },
   "kernels_config": {
    "python": {
     "delete_cmd_postfix": "",
     "delete_cmd_prefix": "del ",
     "library": "var_list.py",
     "varRefreshCmd": "print(var_dic_list())"
    },
    "r": {
     "delete_cmd_postfix": ") ",
     "delete_cmd_prefix": "rm(",
     "library": "var_list.r",
     "varRefreshCmd": "cat(var_dic_list()) "
    }
   },
   "types_to_exclude": [
    "module",
    "function",
    "builtin_function_or_method",
    "instance",
    "_Feature"
   ],
   "window_display": false
  }
 },
 "nbformat": 4,
 "nbformat_minor": 1
}
