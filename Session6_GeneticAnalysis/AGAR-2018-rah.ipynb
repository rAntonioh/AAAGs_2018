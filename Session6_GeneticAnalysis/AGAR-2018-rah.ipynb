{
 "cells": [
  {
   "cell_type": "markdown",
   "metadata": {},
   "source": [
    "# AGAR -  Molecular genetic and genomic analysis of gene variants \n",
    "## 8/2/2018 14:00 - 15:15\n",
    "### Notebook written by R. Antonio Herrera, Ph.D.\n",
    "#### Code based on the biopython cookbook\n",
    "http://biopython.org/DIST/docs/tutorial/Tutorial.html\n"
   ]
  },
  {
   "cell_type": "markdown",
   "metadata": {},
   "source": [
    "### Instructions for pythonanywhere\n",
    "\n",
    "Registration and workshop instructions are available on this graphic: \n",
    "\n",
    "Step 1. Navigate to https://www.pythonanywhere.com/?affiliate_id=003df78d\n",
    "\n",
    "Step 2. Click  “Start running Python online in less than a minute!”\n",
    "\n",
    "Step 3. Create a Beginner account\n",
    "\n",
    "Step 4. Click “Account”\n",
    "\n",
    "Step 5. Click “Teacher” tab\n",
    "\n",
    "Step 6. Enter “rah” as your teacher’s username.\n"
   ]
  },
  {
   "cell_type": "code",
   "execution_count": 1,
   "metadata": {
    "ExecuteTime": {
     "end_time": "2018-08-01T18:58:27.065758Z",
     "start_time": "2018-08-01T18:58:27.040472Z"
    }
   },
   "outputs": [
    {
     "data": {
      "text/html": [
       "<iframe src=\"https://drive.google.com/file/d/1z0c-q-srnKphD5Pv2FFwYVip3e4SC5n5/preview\" height=\"640\"></iframe>"
      ],
      "text/plain": [
       "<IPython.core.display.HTML object>"
      ]
     },
     "execution_count": 1,
     "metadata": {},
     "output_type": "execute_result"
    }
   ],
   "source": [
    "import IPython\n",
    "iframe = '<iframe src=\"https://drive.google.com/file/d/1z0c-q-srnKphD5Pv2FFwYVip3e4SC5n5/preview\" height=\"640\"></iframe>'\n",
    "IPython.display.HTML(iframe)"
   ]
  },
  {
   "cell_type": "markdown",
   "metadata": {},
   "source": [
    "### After registering and designating 'rah' as Teacher is completed:"
   ]
  },
  {
   "cell_type": "code",
   "execution_count": 73,
   "metadata": {
    "collapsed": true
   },
   "outputs": [],
   "source": [
    "import numpy as np\n",
    "import scipy as sp\n",
    "import pandas as pd\n",
    "import matplotlib.pyplot as plt"
   ]
  },
  {
   "cell_type": "markdown",
   "metadata": {},
   "source": [
    "# AGAR - Sources of Variation"
   ]
  },
  {
   "cell_type": "code",
   "execution_count": 46,
   "metadata": {},
   "outputs": [
    {
     "name": "stdout",
     "output_type": "stream",
     "text": [
      "TACAA\n",
      "TACGC\n",
      "TACAC\n",
      "TACCC\n",
      "AACCC\n",
      "AATGC\n",
      "AATGC\n",
      "\n",
      "        0      1      2      3      4\n",
      "A:   3.00   7.00   0.00   2.00   1.00\n",
      "C:   0.00   0.00   5.00   2.00   6.00\n",
      "G:   0.00   0.00   0.00   3.00   0.00\n",
      "T:   4.00   0.00   2.00   0.00   0.00\n",
      "\n",
      "[3, 7, 0, 2, 1]\n",
      "        0\n",
      "A:   3.00\n",
      "C:   0.00\n",
      "G:   0.00\n",
      "T:   4.00\n",
      "\n"
     ]
    }
   ],
   "source": [
    "# AGAR workshop script to analyze motifs\n",
    "from Bio import motifs\n",
    "from Bio.Seq import Seq\n",
    "\n",
    "# suppose we have sequences for motifs of a given transcription factor binding site\n",
    "instances = [Seq(\"TACAA\"), Seq(\"TACGC\"), Seq(\"TACAC\"), Seq(\"TACCC\"), Seq(\"AACCC\"), Seq(\"AATGC\"), Seq(\"AATGC\")]\n",
    "\n",
    "# using the motifs module create m motifs of the instances of the sequences\n",
    "m = motifs.create(instances)\n",
    "\n",
    "# print all motifs\n",
    "print(m)\n",
    "\n",
    "# nucleotide counts can be accessed on whole\n",
    "print(m.counts)\n",
    "\n",
    "# or by nucleotide, by using the base name as the dict key\n",
    "print(m.counts['A'])\n",
    "\n",
    "# or access all elements in the first two positions of the motifs\n",
    "print(m.counts[:,0:1])"
   ]
  },
  {
   "cell_type": "code",
   "execution_count": 47,
   "metadata": {},
   "outputs": [
    {
     "name": "stdout",
     "output_type": "stream",
     "text": [
      "pubmed\n",
      "protein\n",
      "nuccore\n",
      "ipg\n",
      "nucleotide\n",
      "nucgss\n",
      "nucest\n",
      "structure\n",
      "sparcle\n",
      "genome\n",
      "annotinfo\n",
      "assembly\n",
      "bioproject\n",
      "biosample\n",
      "blastdbinfo\n",
      "books\n",
      "cdd\n",
      "clinvar\n",
      "clone\n",
      "gap\n",
      "gapplus\n",
      "grasp\n",
      "dbvar\n",
      "gene\n",
      "gds\n",
      "geoprofiles\n",
      "homologene\n",
      "medgen\n",
      "mesh\n",
      "ncbisearch\n",
      "nlmcatalog\n",
      "omim\n",
      "orgtrack\n",
      "pmc\n",
      "popset\n",
      "probe\n",
      "proteinclusters\n",
      "pcassay\n",
      "biosystems\n",
      "pccompound\n",
      "pcsubstance\n",
      "pubmedhealth\n",
      "seqannot\n",
      "snp\n",
      "sra\n",
      "taxonomy\n",
      "biocollections\n",
      "unigene\n",
      "gencoll\n",
      "gtr\n"
     ]
    }
   ],
   "source": [
    "from Bio import Entrez\n",
    "Entrez.email = \"your@email.com\"\n",
    "handle = Entrez.einfo()\n",
    "record =  Entrez.read(handle)\n",
    "record.keys()\n",
    "for l in record['DbList']:\n",
    "    print(l)"
   ]
  },
  {
   "cell_type": "code",
   "execution_count": 48,
   "metadata": {
    "scrolled": true
   },
   "outputs": [
    {
     "name": "stdout",
     "output_type": "stream",
     "text": [
      ">GI  1805267  U81984 Human endothelial PAS domain protein 1 (EPAS1) mRNA, complete cds\n",
      "\n",
      "Epas1 genomic sequence, cctgactgcgcggggcgctcgggacctgcgcgcacctcggaccttcaccacccgcccggg\n"
     ]
    }
   ],
   "source": [
    "from Bio import Entrez\n",
    "import time\n",
    "Entrez.email =\"eigtw59tyjrt403@gmail.com\"\n",
    "## We instead upload the list of ID beforehand \n",
    "epas1_id = 'U81984.1'\n",
    "gis=[epas1_id]\n",
    "request = Entrez.epost(\"nucleotide\",id=\",\".join(map(str,gis)))\n",
    "result = Entrez.read(request)\n",
    "webEnv = result[\"WebEnv\"]\n",
    "queryKey = result[\"QueryKey\"]\n",
    "handle = Entrez.efetch(db=\"nucleotide\",retmode=\"xml\", webenv=webEnv, query_key=queryKey)\n",
    "results = []\n",
    "for r in Entrez.parse(handle):\n",
    "    # Grab the GI \n",
    "    try:\n",
    "        gi=int([x for x in r['GBSeq_other-seqids'] if \"gi\" in x][0].split(\"|\")[1])\n",
    "    except ValueError:\n",
    "        gi=None\n",
    "    print(\">GI \",gi,\" \"+r[\"GBSeq_primary-accession\"]+\" \"+r[\"GBSeq_definition\"]+\"\\n\")\n",
    "    results.append(r)\n",
    "# for key in r.keys():\n",
    "#     print(key)\n",
    "print('Epas1 genomic sequence,', results[0]['GBSeq_sequence'][0:60])"
   ]
  },
  {
   "cell_type": "code",
   "execution_count": 51,
   "metadata": {
    "collapsed": true
   },
   "outputs": [],
   "source": [
    "epas1_dna = r['GBSeq_sequence']"
   ]
  },
  {
   "cell_type": "code",
   "execution_count": 52,
   "metadata": {},
   "outputs": [],
   "source": [
    "from Bio.Blast import NCBIWWW\n",
    "\n",
    "result_handle = NCBIWWW.qblast(\"blastn\", \"nt\", str(epas1_id))\n",
    "\n",
    "with open(str(epas1_id) + \"_blast.xml\", \"w\") as out_handle:\n",
    "    out_handle.write(result_handle.read())\n",
    "\n",
    "result_handle.close()"
   ]
  },
  {
   "cell_type": "code",
   "execution_count": 53,
   "metadata": {
    "scrolled": true
   },
   "outputs": [
    {
     "name": "stdout",
     "output_type": "stream",
     "text": [
      "****Alignment****\n",
      "sequence: gi|1805267|gb|U81984.1|HSU81984 Human endothelial PAS domain protein 1 (EPAS1) mRNA, complete cds\n",
      "length: 2818\n",
      "e value: 0.0\n",
      "CCTGACTGCGCGGGGCGCTCGGGACCTGCGCGCACCTCGGACCTTCACCACCCGCCCGGGCCGCGGGGAGCGGAC...\n",
      "|||||||||||||||||||||||||||||||||||||||||||||||||||||||||||||||||||||||||||...\n",
      "CCTGACTGCGCGGGGCGCTCGGGACCTGCGCGCACCTCGGACCTTCACCACCCGCCCGGGCCGCGGGGAGCGGAC...\n",
      "****Alignment****\n",
      "sequence: gi|262527236|ref|NM_001430.4| Homo sapiens endothelial PAS domain protein 1 (EPAS1), mRNA\n",
      "length: 5184\n",
      "e value: 0.0\n",
      "CCTGACTGCGCGGGGCGCTCGGGACCTGCGCGCACCTCGGACCTTCACCACCCGCCCGGGCCGCGGGGAGCGGAC...\n",
      "|||||||||||||||||||||||||||||||||||||||||||||||||||||||||||||||||||||||||||...\n",
      "CCTGACTGCGCGGGGCGCTCGGGACCTGCGCGCACCTCGGACCTTCACCACCCGCCCGGGCCGCGGGGAGCGGAC...\n",
      "****Alignment****\n",
      "sequence: gi|30410994|gb|BC051338.1| Homo sapiens endothelial PAS domain protein 1, mRNA (cDNA clone MGC:59860 IMAGE:6305604), complete cds\n",
      "length: 5011\n",
      "e value: 0.0\n",
      "CCTGACTGCGCGGGGCGCTCGGGACCTGCGCGCACCTCGGACCTTCACCACCCGCCCGGGCCGCGGGGAGCGGAC...\n",
      "|||||||||||||||||||||||||||||||||||||||||||||||||||||||||||||||||||||||||||...\n",
      "CCTGACTGCGCGGGGCGCTCGGGACCTGCGCGCACCTCGGACCTTCACCACCCGCCCGGGCCGCGGGGAGCGGAC...\n",
      "****Alignment****\n",
      "sequence: gi|1034145521|ref|XM_001147219.5| PREDICTED: Pan troglodytes endothelial PAS domain protein 1 (EPAS1), transcript variant X2, mRNA\n",
      "length: 5180\n",
      "e value: 0.0\n",
      "CCTGACTGCGCGGGGCGCTCGGGACCTGCGCGCACCTCGGACCTTCACCACCCGCCCGGGCCGCGGGGAGCGGAC...\n",
      "||||||||||||||||||||||||||||||||||||||||||||||||||||||||||||||| |||||||||||...\n",
      "CCTGACTGCGCGGGGCGCTCGGGACCTGCGCGCACCTCGGACCTTCACCACCCGCCCGGGCCGTGGGGAGCGGAC...\n",
      "****Alignment****\n",
      "sequence: gi|1384962192|ref|XM_003822658.3| PREDICTED: Pan paniscus endothelial PAS domain protein 1 (EPAS1), mRNA\n",
      "length: 5167\n",
      "e value: 0.0\n",
      "CCTGACTGCGCGGGGCGCTCGGGACCTGCGCGCACCTCGGACCTTCACCACCCGCCCGGGCCGCGGGGAGCGGAC...\n",
      "||||||||||||||||||||||||||||||||||||||||||||||||||||||||||||||| |||||||||||...\n",
      "CCTGACTGCGCGGGGCGCTCGGGACCTGCGCGCACCTCGGACCTTCACCACCCGCCCGGGCCGTGGGGAGCGGAC...\n",
      "****Alignment****\n",
      "sequence: gi|1351483964|ref|XM_002812065.4| PREDICTED: Pongo abelii endothelial PAS domain protein 1 (EPAS1), transcript variant X1, mRNA\n",
      "length: 5168\n",
      "e value: 0.0\n",
      "CCTGACTGCGCGGGGCGCTCGGGACCTGCGCGCACCTCGGACCTTCACCACCCGCCCGGGCCGCGGGGAGCGGAC...\n",
      "|||||||||||||||||||||||||||||||||||||||||||||||||||||||||||||||||||||||||||...\n",
      "CCTGACTGCGCGGGGCGCTCGGGACCTGCGCGCACCTCGGACCTTCACCACCCGCCCGGGCCGCGGGGAGCGGAC...\n",
      "****Alignment****\n",
      "sequence: gi|821027574|ref|XM_003262806.2| PREDICTED: Nomascus leucogenys endothelial PAS domain protein 1 (EPAS1), mRNA\n",
      "length: 5154\n",
      "e value: 0.0\n",
      "CCTGACTGCGCGGGGCGCTCGGGACCTGCGCGCACCTCGGACCTTCACCACCCGCCCGGGCCGCGGGGAGCGGAC...\n",
      "|||||||||||||||||| ||||||||||||||||||||||||||||||||||||||||||||||||||||||||...\n",
      "CCTGACTGCGCGGGGCGCCCGGGACCTGCGCGCACCTCGGACCTTCACCACCCGCCCGGGCCGCGGGGAGCGGAC...\n",
      "****Alignment****\n",
      "sequence: gi|795134484|ref|XM_011935884.1| PREDICTED: Colobus angolensis palliatus endothelial PAS domain protein 1 (EPAS1), mRNA\n",
      "length: 5165\n",
      "e value: 0.0\n",
      "CCTGACTGCGCGGGGCGCTCGGGACCTGCGCGCACCTCGGACCTTCACCACCCGCCCGGGCCGCGGGGAGCGGAC...\n",
      "|||||||||||||||||||||||||||||||||||||||||||||||||||||||||||||||| ||||||||||...\n",
      "CCTGACTGCGCGGGGCGCTCGGGACCTGCGCGCACCTCGGACCTTCACCACCCGCCCGGGCCGCCGGGAGCGGAC...\n",
      "****Alignment****\n",
      "sequence: gi|982290591|ref|XM_005575965.2| PREDICTED: Macaca fascicularis endothelial PAS domain protein 1 (EPAS1), transcript variant X3, mRNA\n",
      "length: 5168\n",
      "e value: 0.0\n",
      "CCTGACTGCGCGGGGCGCTCGGGACCTGCGCGCACCTCGGACCTTCACCACCCGCCCGGGCCGCGGGGAGCGGAC...\n",
      "|||||||||||||||||||||||||||||||||||||||||||||||||||||||||||||||| ||||||||||...\n",
      "CCTGACTGCGCGGGGCGCTCGGGACCTGCGCGCACCTCGGACCTTCACCACCCGCCCGGGCCGCCGGGAGCGGAC...\n",
      "****Alignment****\n",
      "sequence: gi|795313079|ref|XM_012070300.1| PREDICTED: Cercocebus atys endothelial PAS domain protein 1 (EPAS1), transcript variant X2, mRNA\n",
      "length: 5162\n",
      "e value: 0.0\n",
      "CCTGACTGCGCGGGGCGCTCGGGACCTGCGCGCACCTCGGACCTTCACCACCCGCCCGGGCCGCGGGGAGCGGAC...\n",
      "|||||||||||||||||||||||||||||||||||||||||||||||||||||||||||||||| ||||||||||...\n",
      "CCTGACTGCGCGGGGCGCTCGGGACCTGCGCGCACCTCGGACCTTCACCACCCGCCCGGGCCGCCGGGAGCGGAC...\n",
      "****Alignment****\n",
      "sequence: gi|1695800|gb|U51626.1|HSU51626 Human MOP2 mRNA, complete cds\n",
      "length: 2730\n",
      "e value: 0.0\n",
      "GCGTCTGAACGTCTCAAAGGGCCACAGCGACAATGACAGCTGACAAGGAGAAGAAAAGGAGTAGCTCGGAGAGGA...\n",
      "|||||||||||||||||||||||||||||||||||||||||||||||||||||||||||||||||||||||||||...\n",
      "GCGTCTGAACGTCTCAAAGGGCCACAGCGACAATGACAGCTGACAAGGAGAAGAAAAGGAGTAGCTCGGAGAGGA...\n",
      "****Alignment****\n",
      "sequence: gi|966981043|ref|XM_015112282.1| PREDICTED: Macaca mulatta endothelial PAS domain protein 1 (EPAS1), transcript variant X2, mRNA\n",
      "length: 5168\n",
      "e value: 0.0\n",
      "CCTGACTGCGCGGGGCGCTCGGGACCTGCGCGCACCTCGGACCTTCACCACCCGCCCGGGCCGCGGGGAGCGGAC...\n",
      "|||||||||||||||||||||||||||||||||||||||||||||||||||||||||||||||| ||||||||||...\n",
      "CCTGACTGCGCGGGGCGCTCGGGACCTGCGCGCACCTCGGACCTTCACCACCCGCCCGGGCCGCCGGGAGCGGAC...\n",
      "****Alignment****\n",
      "sequence: gi|1411099930|ref|XM_025405670.1| PREDICTED: Theropithecus gelada endothelial PAS domain protein 1 (EPAS1), transcript variant X2, mRNA\n",
      "length: 5147\n",
      "e value: 0.0\n",
      "CCTGACTGCGCGGGGCGCTCGGGACCTGCGCGCACCTCGGACCTTCACCACCCGCCCGGGCCGCGGGGAGCGGAC...\n",
      "|||||||||||||||||||||||||||||||||||||||||||||||||||||||| ||||||| ||||||||||...\n",
      "CCTGACTGCGCGGGGCGCTCGGGACCTGCGCGCACCTCGGACCTTCACCACCCGCCTGGGCCGCCGGGAGCGGAC...\n",
      "****Alignment****\n",
      "sequence: gi|795508682|ref|XM_011713131.1| PREDICTED: Macaca nemestrina endothelial PAS domain protein 1 (EPAS1), transcript variant X2, mRNA\n",
      "length: 5173\n",
      "e value: 0.0\n",
      "CCTGACTGCGCGGGGCGCTCGGGACCTGCGCGCACCTCGGACCTTCACCACCCGCCCGGGCCGCGGGGAGCGGAC...\n",
      "||||||||||||||||||| |||||||||||||||||||||||||||||||||||||||||||| ||||||||||...\n",
      "CCTGACTGCGCGGGGCGCTGGGGACCTGCGCGCACCTCGGACCTTCACCACCCGCCCGGGCCGCCGGGAGCGGAC...\n",
      "****Alignment****\n",
      "sequence: gi|635080973|ref|XM_007970745.1| PREDICTED: Chlorocebus sabaeus endothelial PAS domain protein 1 (EPAS1), transcript variant X2, mRNA\n",
      "length: 5149\n",
      "e value: 0.0\n",
      "CCTGACTGCGCGGGGCGCTCGGGACCTGCGCGCACCTCGGACCTTCACCACCCGCCCGGGCCGCGGGGAGCGGAC...\n",
      "||||||||||||||||||||||||||||||||||||||||| |||||||||||||||||||||| ||||||||||...\n",
      "CCTGACTGCGCGGGGCGCTCGGGACCTGCGCGCACCTCGGAGCTTCACCACCCGCCCGGGCCGCCGGGAGCGGAC...\n",
      "****Alignment****\n",
      "sequence: gi|1034612387|ref|XM_011532698.2| PREDICTED: Homo sapiens endothelial PAS domain protein 1 (EPAS1), transcript variant X1, mRNA\n",
      "length: 4918\n",
      "e value: 0.0\n",
      "AAGGAGTAGCTCGGAGAGGAGGAAGGAGAAGTCCCGGGATGCTGCGCGGTGCCGGCGGAGCAAGGAGACGGAGGT...\n",
      "|||||||||||||||||||||||||||||||||||||||||||||||||||||||||||||||||||||||||||...\n",
      "AAGGAGTAGCTCGGAGAGGAGGAAGGAGAAGTCCCGGGATGCTGCGCGGTGCCGGCGGAGCAAGGAGACGGAGGT...\n",
      "****Alignment****\n",
      "sequence: gi|1297683446|ref|XM_023223840.1| PREDICTED: Piliocolobus tephrosceles endothelial PAS domain protein 1 (EPAS1), mRNA\n",
      "length: 5160\n",
      "e value: 0.0\n",
      "CCTGACTGCGCGGGGCGCTCGGGACCTGCGCGCACCTCGGACCTTCACCACCCGCCCGGGCCGCGGGGAGCGGAC...\n",
      "|||||||||||||||||||||||||||||||||||||||||||||||||||||||||||||||| ||||||||||...\n",
      "CCTGACTGCGCGGGGCGCTCGGGACCTGCGCGCACCTCGGACCTTCACCACCCGCCCGGGCCGCCGGGAGCGGAC...\n",
      "****Alignment****\n",
      "sequence: gi|1220170964|ref|XM_021925252.1| PREDICTED: Papio anubis endothelial PAS domain protein 1 (EPAS1), mRNA\n",
      "length: 5152\n",
      "e value: 0.0\n",
      "CCTGACTGCGCGGGGCGCTCGGGACCTGCGCGCACCTCGGACCTTCACCACCCGCCCGGGCCGCGGGGAGCGGAC...\n",
      "||||||||||||||||||||||||||||||||||||||||||||||||   |||||||||| || ||||||||||...\n",
      "CCTGACTGCGCGGGGCGCTCGGGACCTGCGCGCACCTCGGACCTTCACA--CCGCCCGGGC-GCCGGGAGCGGAC...\n",
      "****Alignment****\n",
      "sequence: gi|724828300|ref|XM_010364307.1| PREDICTED: Rhinopithecus roxellana endothelial PAS domain protein 1 (EPAS1), mRNA\n",
      "length: 5140\n",
      "e value: 0.0\n",
      "CCTGACTGCGCGGGGCGCTCGGGACCTGCGCGCACCTCGGACCTTCACCACCCGCCCGGGCCGCGGGGAGCGGAC...\n",
      "|||||||||||||||||||||||||||||||||||||||||||||||||||||||||||||||| | ||||||||...\n",
      "CCTGACTGCGCGGGGCGCTCGGGACCTGCGCGCACCTCGGACCTTCACCACCCGCCCGGGCCGCCGTGAGCGGAC...\n",
      "****Alignment****\n",
      "sequence: gi|1034145519|ref|XM_016948471.1| PREDICTED: Pan troglodytes endothelial PAS domain protein 1 (EPAS1), transcript variant X1, mRNA\n",
      "length: 4705\n",
      "e value: 0.0\n",
      "AAGGAGTAGCTCGGAGAGGAGGAAGGAGAAGTCCCGGGATGCTGCGCGGTGCCGGCGGAGCAAGGAGACGGAGGT...\n",
      "|||||||||||||||||||||||||||||||||||||||||||||||||||||||||||||||||||||||||||...\n",
      "AAGGAGTAGCTCGGAGAGGAGGAAGGAGAAGTCCCGGGATGCTGCGCGGTGCCGGCGGAGCAAGGAGACGGAGGT...\n",
      "****Alignment****\n",
      "sequence: gi|795288603|ref|XM_011965748.1| PREDICTED: Mandrillus leucophaeus endothelial PAS domain protein 1 (EPAS1), mRNA\n",
      "length: 4738\n",
      "e value: 0.0\n",
      "CCGCCCGGGCCGCGGGGAGCGGACGAGGGCCACAGCCCCCCACCCGCCAGGGAGCCCAGGTGCTCGGCGTCTGAA...\n",
      "||||||||||||| |||||||||||||||||||||| |||||||||||||| |||||||||||||||||||||||...\n",
      "CCGCCCGGGCCGCCGGGAGCGGACGAGGGCCACAGCTCCCCACCCGCCAGGAAGCCCAGGTGCTCGGCGTCTGAA...\n",
      "****Alignment****\n",
      "sequence: gi|1059139221|ref|XM_017862716.1| PREDICTED: Rhinopithecus bieti endothelial PAS domain protein 1 (EPAS1), mRNA\n",
      "length: 5138\n",
      "e value: 0.0\n",
      "CCTGACTGCGCGGGGCGCTCGGGACCTGCGCGCACCTCGGACCTTCACCACCCGCCCGGGCCGCGGGGAGCGGAC...\n",
      "|||||||||||||||||||||||||||||||||||||||||||||||||||||||||||||||| | ||||||||...\n",
      "CCTGACTGCGCGGGGCGCTCGGGACCTGCGCGCACCTCGGACCTTCACCACCCGCCCGGGCCGCCGTGAGCGGAC...\n",
      "****Alignment****\n",
      "sequence: gi|168277629|dbj|AB384937.1| Synthetic construct DNA, clone: pF1KB4384, Homo sapiens EPAS1 gene for endothelial PAS domain-containing protein 1, complete cds, without stop codon, in Flexi system\n",
      "length: 2627\n",
      "e value: 0.0\n",
      "ATGACAGCTGACAAGGAGAAGAAAAGGAGTAGCTCGGAGAGGAGGAAGGAGAAGTCCCGGGATGCTGCGCGGTGC...\n",
      "|||||||||||||||||||||||||||||||||||||||||||||||||||||||||||||||||||||||||||...\n",
      "ATGACAGCTGACAAGGAGAAGAAAAGGAGTAGCTCGGAGAGGAGGAAGGAGAAGTCCCGGGATGCTGCGCGGTGC...\n",
      "****Alignment****\n",
      "sequence: gi|1351483966|ref|XM_009237348.2| PREDICTED: Pongo abelii endothelial PAS domain protein 1 (EPAS1), transcript variant X2, mRNA\n",
      "length: 4392\n",
      "e value: 0.0\n",
      "GAGTAGCTCGGAGAGGAGGAAGGAGAAGTCCCGGGATGCTGCGCGGTGCCGGCGGAGCAAGGAGACGGAGGTGTT...\n",
      "||||||||||||||| |||||||||||||||||||||||||||||||||||||||||||||||||||||||||||...\n",
      "GAGTAGCTCGGAGAGAAGGAAGGAGAAGTCCCGGGATGCTGCGCGGTGCCGGCGGAGCAAGGAGACGGAGGTGTT...\n",
      "****Alignment****\n",
      "sequence: gi|982290587|ref|XM_015433700.1| PREDICTED: Macaca fascicularis endothelial PAS domain protein 1 (EPAS1), transcript variant X1, mRNA\n",
      "length: 4681\n",
      "e value: 0.0\n",
      "AAGGAGTAGCTCGGAGAGGAGGAAGGAGAAGTCCCGGGATGCTGCGCGGTGCCGGCGGAGCAAGGAGACGGAGGT...\n",
      "|||||||||||||||||||||||||||||||||||||||||| || |||||||||||||||||||||||||||||...\n",
      "AAGGAGTAGCTCGGAGAGGAGGAAGGAGAAGTCCCGGGATGCCGCACGGTGCCGGCGGAGCAAGGAGACGGAGGT...\n",
      "****Alignment****\n",
      "sequence: gi|966981041|ref|XM_015112281.1| PREDICTED: Macaca mulatta endothelial PAS domain protein 1 (EPAS1), transcript variant X1, mRNA\n",
      "length: 4695\n",
      "e value: 0.0\n",
      "AAGGAGTAGCTCGGAGAGGAGGAAGGAGAAGTCCCGGGATGCTGCGCGGTGCCGGCGGAGCAAGGAGACGGAGGT...\n",
      "|||||||||||||||||||||||||||||||||||||||||| || |||||||||||||||||||||||||||||...\n",
      "AAGGAGTAGCTCGGAGAGGAGGAAGGAGAAGTCCCGGGATGCCGCACGGTGCCGGCGGAGCAAGGAGACGGAGGT...\n",
      "****Alignment****\n",
      "sequence: gi|795313071|ref|XM_012070299.1| PREDICTED: Cercocebus atys endothelial PAS domain protein 1 (EPAS1), transcript variant X1, mRNA\n",
      "length: 6135\n",
      "e value: 0.0\n",
      "AAGGAGTAGCTCGGAGAGGAGGAAGGAGAAGTCCCGGGATGCTGCGCGGTGCCGGCGGAGCAAGGAGACGGAGGT...\n",
      "|||||||||||||||||||||||||||||||||||||||||| || |||||||||||||||||||||||||||||...\n",
      "AAGGAGTAGCTCGGAGAGGAGGAAGGAGAAGTCCCGGGATGCCGCACGGTGCCGGCGGAGCAAGGAGACGGAGGT...\n",
      "****Alignment****\n",
      "sequence: gi|1381473101|ref|XM_011713130.2| PREDICTED: Macaca nemestrina endothelial PAS domain protein 1 (EPAS1), transcript variant X1, mRNA\n",
      "length: 5227\n",
      "e value: 0.0\n",
      "AAGGAGTAGCTCGGAGAGGAGGAAGGAGAAGTCCCGGGATGCTGCGCGGTGCCGGCGGAGCAAGGAGACGGAGGT...\n",
      "|||||||||||||||||||||||||||||||||||||||||| || |||||||||||||||||||||||||||||...\n",
      "AAGGAGTAGCTCGGAGAGGAGGAAGGAGAAGTCCCGGGATGCCGCACGGTGCCGGCGGAGCAAGGAGACGGAGGT...\n",
      "****Alignment****\n",
      "sequence: gi|635080971|ref|XM_007970744.1| PREDICTED: Chlorocebus sabaeus endothelial PAS domain protein 1 (EPAS1), transcript variant X1, mRNA\n",
      "length: 4673\n",
      "e value: 0.0\n",
      "AAGGAGTAGCTCGGAGAGGAGGAAGGAGAAGTCCCGGGATGCTGCGCGGTGCCGGCGGAGCAAGGAGACGGAGGT...\n",
      "|||||||||||||||||||||||||||||||||||||||||| || |||||||||||||||||||||||||||||...\n",
      "AAGGAGTAGCTCGGAGAGGAGGAAGGAGAAGTCCCGGGATGCCGCACGGTGCCGGCGGAGCAAGGAGACGGAGGT...\n",
      "****Alignment****\n",
      "sequence: gi|817271894|ref|XM_012450578.1| PREDICTED: Aotus nancymaae endothelial PAS domain protein 1 (EPAS1), transcript variant X2, mRNA\n",
      "length: 5150\n",
      "e value: 0.0\n",
      "CCTGACTGCGCGGGGCGCTCGGGACCTGCGCGCACCTCGGACCTTCACCACCCGCCCGGGCCGCGGGGAGCGGAC...\n",
      "||||||||||| ||||||||||||||||||| ||||||||||||||||||||||||| ||||||||| |||||||...\n",
      "CCTGACTGCGCCGGGCGCTCGGGACCTGCGCACACCTCGGACCTTCACCACCCGCCCCGGCCGCGGG-AGCGGAC...\n",
      "****Alignment****\n",
      "sequence: gi|1060952295|ref|XM_002757798.3| PREDICTED: Callithrix jacchus endothelial PAS domain protein 1 (EPAS1), mRNA\n",
      "length: 5125\n",
      "e value: 0.0\n",
      "CCTGACTGCGCGGGGCGCTCGGGACCTGCGCGCACCTCGGACCTTCACCACCCGCCCGGGCCGCGGGGAGCGGAC...\n",
      "||||||||||||||| ||||||||||||||| ||||||||||||||||||||||||||||||||||| |||||||...\n",
      "CCTGACTGCGCGGGGTGCTCGGGACCTGCGCACACCTCGGACCTTCACCACCCGCCCGGGCCGCGGG-AGCGGAC...\n",
      "****Alignment****\n",
      "sequence: gi|725565252|ref|XM_003926750.2| PREDICTED: Saimiri boliviensis boliviensis endothelial PAS domain protein 1 (EPAS1), mRNA\n",
      "length: 4927\n",
      "e value: 0.0\n",
      "CCTGACTGCGCGGGGCGCTCGGGACCTGCGCGCACCTCGGACCTTCACCACCCGCCCGGGCCGCGGGGAGCGGAC...\n",
      "||||||||||| ||| ||  ||||||||||| ||||||||||||||||||||||||| | ||||||| |||||||...\n",
      "CCTGACTGCGCCGGGTGCAAGGGACCTGCGCACACCTCGGACCTTCACCACCCGCCCCGACCGCGGG-AGCGGAC...\n",
      "****Alignment****\n",
      "sequence: gi|1411099928|ref|XM_025405669.1| PREDICTED: Theropithecus gelada endothelial PAS domain protein 1 (EPAS1), transcript variant X1, mRNA\n",
      "length: 3309\n",
      "e value: 0.0\n",
      "CCTGACTGCGCGGGGCGCTCGGGACCTGCGCGCACCTCGGACCTTCACCACCCGCCCGGGCCGCGGGGAGCGGAC...\n",
      "|||||||||||||||||||||||||||||||||||||||||||||||||||||||| ||||||| ||||||||||...\n",
      "CCTGACTGCGCGGGGCGCTCGGGACCTGCGCGCACCTCGGACCTTCACCACCCGCCTGGGCCGCCGGGAGCGGAC...\n",
      "****Alignment****\n",
      "sequence: gi|982290589|ref|XM_015433701.1| PREDICTED: Macaca fascicularis endothelial PAS domain protein 1 (EPAS1), transcript variant X2, mRNA\n",
      "length: 4137\n",
      "e value: 0.0\n",
      "AAGGAGTAGCTCGGAGAGGAGGAAGGAGAAGTCCCGGGATGCTGCGCGGTGCCGGCGGAGCAAGGAGACGGAGGT...\n",
      "|||||||||||||||||||||||||||||||||||||||||| || |||||||||||||||||||||||||||||...\n",
      "AAGGAGTAGCTCGGAGAGGAGGAAGGAGAAGTCCCGGGATGCCGCACGGTGCCGGCGGAGCAAGGAGACGGAGGT...\n",
      "****Alignment****\n",
      "sequence: gi|1044433635|ref|XM_017512714.1| PREDICTED: Cebus capucinus imitator endothelial PAS domain protein 1 (EPAS1), partial mRNA\n",
      "length: 4894\n",
      "e value: 0.0\n",
      "AGGAGTAGCTCGGAGAGGAGGAAGGAGAAGTCCCGGGATGCTGCGCGGTGCCGGCGGAGCAAGGAGACGGAGGTG...\n",
      "|||||||||||||| |||||||||||||||||||||||||||||| ||||||| |||||||||||||| ||||||...\n",
      "AGGAGTAGCTCGGAAAGGAGGAAGGAGAAGTCCCGGGATGCTGCGAGGTGCCGACGGAGCAAGGAGACAGAGGTG...\n",
      "****Alignment****\n",
      "sequence: gi|1212443962|ref|XM_012450577.2| PREDICTED: Aotus nancymaae endothelial PAS domain protein 1 (EPAS1), transcript variant X1, mRNA\n",
      "length: 5162\n",
      "e value: 0.0\n",
      "AAGGAGTAGCTCGGAGAGGAGGAAGGAGAAGTCCCGGGATGCTGCGCGGTGCCGGCGGAGCAAGGAGACGGAGGT...\n",
      "||| ||||||||||| |||||||||||||||||||||||||||||| ||||||| ||||||||||||||||||||...\n",
      "AAGAAGTAGCTCGGAAAGGAGGAAGGAGAAGTCCCGGGATGCTGCGAGGTGCCGACGGAGCAAGGAGACGGAGGT...\n",
      "****Alignment****\n",
      "sequence: gi|795313089|ref|XM_012070301.1| PREDICTED: Cercocebus atys endothelial PAS domain protein 1 (EPAS1), transcript variant X3, mRNA\n",
      "length: 5966\n",
      "e value: 0.0\n",
      "AAGGAGTAGCTCGGAGAGGAGGAAGGAGAAGTCCCGGGATGCTGCGCGGTGCCGGCGGAGCAAGGAGACGGAGGT...\n",
      "|||||||||||||||||||||||||||||||||||||||||| || |||||||||||||||||||||||||||||...\n",
      "AAGGAGTAGCTCGGAGAGGAGGAAGGAGAAGTCCCGGGATGCCGCACGGTGCCGGCGGAGCAAGGAGACGGAGGT...\n",
      "****Alignment****\n",
      "sequence: gi|795313089|ref|XM_012070301.1| PREDICTED: Cercocebus atys endothelial PAS domain protein 1 (EPAS1), transcript variant X3, mRNA\n",
      "length: 5966\n",
      "e value: 2.41584e-93\n",
      "GGCATGGCAAGCCGGCTGCTCGGGCCCTCATTTGAGTCCTACCTGCTGCCCGAACTGACCAGATATGACTGTGAG...\n",
      "||||||||||||||||||||||||||||| |||||||||||||||||||| ||||||||||||||||||||||||...\n",
      "GGCATGGCAAGCCGGCTGCTCGGGCCCTCGTTTGAGTCCTACCTGCTGCCTGAACTGACCAGATATGACTGTGAG...\n",
      "****Alignment****\n",
      "sequence: gi|1214023948|ref|XM_021710438.1| PREDICTED: Carlito syrichta endothelial PAS domain protein 1 (EPAS1), transcript variant X2, mRNA\n",
      "length: 2923\n",
      "e value: 0.0\n",
      "CCTGACTGCGCGGGGCGCTCGGGACCTGCGCGCACCTCGGACCTTCACCACCCGCCCGGGCCGCGGGGAGCGGAC...\n",
      "|| ||||| ||||||||||||||||||||| || | | | ||||| | ||||||| | |||||| ||||||||||...\n",
      "CCCGACTGTGCGGGGCGCTCGGGACCTGCGAGCTCTTGGCACCTTTAACACCCGCGCTGGCCGCAGGGAGCGGAC...\n",
      "****Alignment****\n",
      "sequence: gi|1214023947|ref|XM_008054044.2| PREDICTED: Carlito syrichta endothelial PAS domain protein 1 (EPAS1), transcript variant X1, mRNA\n",
      "length: 2966\n",
      "e value: 0.0\n",
      "CCTGACTGCGCGGGGCGCTCGGGACCTGCGCGCACCTCGGACCTTCACCACCCGCCCGGGCCGCGGGGAGCGGAC...\n",
      "|| ||||| ||||||||||||||||||||| || | | | ||||| | ||||||| | |||||| ||||||||||...\n",
      "CCCGACTGTGCGGGGCGCTCGGGACCTGCGAGCTCTTGGCACCTTTAACACCCGCGCTGGCCGCAGGGAGCGGAC...\n",
      "****Alignment****\n",
      "sequence: gi|829746900|ref|XM_012755873.1| PREDICTED: Microcebus murinus endothelial PAS domain protein 1 (EPAS1), transcript variant X2, mRNA\n",
      "length: 5195\n",
      "e value: 0.0\n",
      "CCTGACTGCGCGGGGCGCTCGGGACCTGCGCGCACCTCGGACCTTCACCACCCGCCCGGGCCGCGGGGAGCGGAC...\n",
      "|||||||| ||||||||||||||||||||| |||| | ||||||| |||||| |||||| |||||||||||||||...\n",
      "CCTGACTGTGCGGGGCGCTCGGGACCTGCGAGCAC-TAGGACCTTTACCACC-GCCCGGACCGCGGGGAGCGGAC...\n",
      "****Alignment****\n",
      "sequence: gi|1149883198|ref|XM_012755862.2| PREDICTED: Microcebus murinus endothelial PAS domain protein 1 (EPAS1), transcript variant X1, mRNA\n",
      "length: 5211\n",
      "e value: 0.0\n",
      "CCTGACTGCGCGGGGCGCTCGGGACCTGCGCGCACCTCGGACCTTCACCACCCGCCCGGGCCGCGGGGAGCGGAC...\n",
      "|||||||| ||||||||||||||||||||| |||| | ||||||| |||||| |||||| |||||||||||||||...\n",
      "CCTGACTGTGCGGGGCGCTCGGGACCTGCGAGCAC-TAGGACCTTTACCACC-GCCCGGACCGCGGGGAGCGGAC...\n",
      "****Alignment****\n",
      "sequence: gi|826320671|ref|XM_012653832.1| PREDICTED: Propithecus coquereli endothelial PAS domain protein 1 (EPAS1), mRNA\n",
      "length: 4616\n",
      "e value: 0.0\n",
      "GAGTAGCTCGGAGAGGAGGAAGGAGAAGTCCCGGGATGCTGCGCGGTGCCGGCGGAGCAAGGAGACGGAGGTGTT...\n",
      "||||||||||||||||||||||||||||||||| ||||||||| |||||||||||||||||||||||||||||||...\n",
      "GAGTAGCTCGGAGAGGAGGAAGGAGAAGTCCCGAGATGCTGCGAGGTGCCGGCGGAGCAAGGAGACGGAGGTGTT...\n",
      "****Alignment****\n",
      "sequence: gi|958677073|ref|XM_014833260.1| PREDICTED: Equus asinus endothelial PAS domain protein 1 (EPAS1), transcript variant X1, mRNA\n",
      "length: 5236\n",
      "e value: 0.0\n",
      "CCTGACTGCGCGGGGCGCTCGGGACCTGCGCGCACCTCGGACCTTCACCACCCGCCCGGGCCGCGGGG---AGCG...\n",
      "|||||||| |||||||||||||||||||    ||||  || ||  | |||   | | |||| | |||    ||||...\n",
      "CCTGACTGTGCGGGGCGCTCGGGACCTGTAA-CACC--GGCCCGGC-CCAGG-GACTGGGC-GAGGGCCACAGCG...\n",
      "****Alignment****\n",
      "sequence: gi|1333578325|ref|XM_005600005.3| PREDICTED: Equus caballus endothelial PAS domain protein 1 (EPAS1), transcript variant X2, mRNA\n",
      "length: 5339\n",
      "e value: 0.0\n",
      "CCTGACTGCGCGGGGCGCTCGGGACCTGCGCGCACCTCGGACCTTCACCACCCGCCCGGGCCGCGGGG---AGCG...\n",
      "|||||||| |||||||||||||||||||    ||||  || ||  | |||   | | |||| | |||    ||||...\n",
      "CCTGACTGTGCGGGGCGCTCGGGACCTGTAA-CACC--GGCCCGGC-CCAGG-GACTGGGC-GAGGGCCACAGCG...\n",
      "****Alignment****\n",
      "sequence: gi|955530411|ref|XM_004436689.2| PREDICTED: Ceratotherium simum simum endothelial PAS domain protein 1 (LOC101398300), mRNA\n",
      "length: 3186\n",
      "e value: 0.0\n",
      "CCTGACTGCGCGGGGCGCTCGGGACCTGCGCGCACCTCGGACCTTCACCACCCGCCCGGGCCGCGGGGAGCGGAC...\n",
      "|||||||| ||||||||||||||||||||| |||| | ||||||  | |||| ||||||||||| ||||| || |...\n",
      "CCTGACTGTGCGGGGCGCTCGGGACCTGCGAGCACTTAGGACCTGTAACACCGGCCCGGGCCGCAGGGAGTGGGC...\n",
      "****Alignment****\n",
      "sequence: gi|1327794453|ref|XM_012804036.2| PREDICTED: Otolemur garnettii endothelial PAS domain protein 1 (EPAS1), mRNA\n",
      "length: 5099\n",
      "e value: 0.0\n",
      "CCTGACTGCGCGGGGCGCTCGGGACCTGCGCGCACCTCGGACCTTCACCACCCGCCCGGGCCGCGGGGAGCGGAC...\n",
      "|||| ||| ||||| ||||||||||||||| |||| | |||| || | ||| |||||||||||||||||||||||...\n",
      "CCTGGCTGTGCGGG-CGCTCGGGACCTGCGAGCAC-TAGGACTTTTAACACTCGCCCGGGCCGCGGGGAGCGGAC...\n",
      "****Alignment****\n",
      "sequence: gi|1328789969|ref|XM_010597282.2| PREDICTED: Loxodonta africana endothelial PAS domain protein 1 (EPAS1), transcript variant X2, mRNA\n",
      "length: 4949\n",
      "e value: 0.0\n",
      "CCTGACTGCGCGGGGCGCTCGGGACCTGCGCGCACCTCGGACCTTCACCACCCGCCCGGGCCGCGGGGAGCGGAC...\n",
      "|||||||| ||||||||||||||||||||| |||| | |||| ||  || |||||||||||| | || ||||  |...\n",
      "CCTGACTGTGCGGGGCGCTCGGGACCTGCGAGCACTTAGGACTTTTTCCCCCCGCCCGGGCCTCAGGAAGCGAGC...\n",
      "****Alignment****\n",
      "sequence: gi|1034145522|ref|XM_016948472.1| PREDICTED: Pan troglodytes endothelial PAS domain protein 1 (EPAS1), transcript variant X3, mRNA\n",
      "length: 2154\n",
      "e value: 0.0\n",
      "AAGGAGTAGCTCGGAGAGGAGGAAGGAGAAGTCCCGGGATGCTGCGCGGTGCCGGCGGAGCAAGGAGACGGAGGT...\n",
      "|||||||||||||||||||||||||||||||||||||||||||||||||||||||||||||||||||||||||||...\n",
      "AAGGAGTAGCTCGGAGAGGAGGAAGGAGAAGTCCCGGGATGCTGCGCGGTGCCGGCGGAGCAAGGAGACGGAGGT...\n",
      "****Alignment****\n",
      "sequence: gi|1333578326|ref|XM_023619142.1| PREDICTED: Equus caballus endothelial PAS domain protein 1 (EPAS1), transcript variant X3, mRNA\n",
      "length: 4812\n",
      "e value: 0.0\n",
      "AGGAGTAGCTCGGAGAGGAGGAAGGAGAAGTCCCGGGATGCTGCGCGGTGCCGGCGGAGCAAGGAGACGGAGGTG...\n",
      "||||||||||| ||||||||||||||||||||||| ||||||||  |||||||| ||||||||||||||||||| ...\n",
      "AGGAGTAGCTCAGAGAGGAGGAAGGAGAAGTCCCGAGATGCTGCAAGGTGCCGGAGGAGCAAGGAGACGGAGGTC...\n",
      "****Alignment****\n",
      "sequence: gi|1333578323|ref|XM_023619141.1| PREDICTED: Equus caballus endothelial PAS domain protein 1 (EPAS1), transcript variant X1, mRNA\n",
      "length: 4806\n",
      "e value: 0.0\n",
      "AGGAGTAGCTCGGAGAGGAGGAAGGAGAAGTCCCGGGATGCTGCGCGGTGCCGGCGGAGCAAGGAGACGGAGGTG...\n",
      "||||||||||| ||||||||||||||||||||||| ||||||||  |||||||| ||||||||||||||||||| ...\n",
      "AGGAGTAGCTCAGAGAGGAGGAAGGAGAAGTCCCGAGATGCTGCAAGGTGCCGGAGGAGCAAGGAGACGGAGGTC...\n",
      "Query: U81984.1\n",
      "       Human endothelial PAS domain protein 1 (EPAS1) mRNA, complete cds\n",
      "  Hit: gi|1034145521|ref|XM_001147219.5| (5180)\n",
      "       PREDICTED: Pan troglodytes endothelial PAS domain protein 1 (EPAS1), ...\n",
      " HSPs: ----  --------  ---------  ------  ---------------  ---------------------\n",
      "          #   E-value  Bit score    Span      Query range              Hit range\n",
      "       ----  --------  ---------  ------  ---------------  ---------------------\n",
      "          0         0    5034.49    2816         [0:2816]             [380:3196]\n"
     ]
    }
   ],
   "source": [
    "result_handle = open(str(epas1_id) + \"_blast.xml\")\n",
    "\n",
    "from Bio.Blast import NCBIXML\n",
    "blast_records = NCBIXML.read(result_handle)\n",
    "E_VALUE_THRESH = 0.04\n",
    "\n",
    "for alignment in blast_records.alignments:\n",
    "    for hsp in alignment.hsps:\n",
    "        if hsp.expect < E_VALUE_THRESH:\n",
    "            print('****Alignment****')\n",
    "            print('sequence:', alignment.title)\n",
    "            print('length:', alignment.length)\n",
    "            print('e value:', hsp.expect)\n",
    "            print(hsp.query[0:75] + '...')\n",
    "            print(hsp.match[0:75] + '...')\n",
    "            print(hsp.sbjct[0:75] + '...')\n",
    "            \n",
    "from Bio import SearchIO     \n",
    "blast_qresult = SearchIO.read(str(epas1_id) + \"_blast.xml\", 'blast-xml')\n",
    "\n",
    "# print(blast_qresult)\n",
    "blast_hit = blast_qresult[3]\n",
    "print(blast_hit)"
   ]
  },
  {
   "cell_type": "code",
   "execution_count": 54,
   "metadata": {},
   "outputs": [
    {
     "name": "stdout",
     "output_type": "stream",
     "text": [
      "TACAA\n",
      "TACGC\n",
      "TACAC\n",
      "TACCC\n",
      "AACCC\n",
      "AATGC\n",
      "AATGC\n",
      "\n",
      "        0      1      2      3      4\n",
      "A:   3.00   7.00   0.00   2.00   1.00\n",
      "C:   0.00   0.00   5.00   2.00   6.00\n",
      "G:   0.00   0.00   0.00   3.00   0.00\n",
      "T:   4.00   0.00   2.00   0.00   0.00\n",
      "\n",
      "TACGC\n",
      "GGGTG\n"
     ]
    }
   ],
   "source": [
    "from Bio import motifs\n",
    "from Bio.Seq import Seq\n",
    "instances = [Seq(\"TACAA\"),\n",
    "              Seq(\"TACGC\"),\n",
    "              Seq(\"TACAC\"),\n",
    "              Seq(\"TACCC\"),\n",
    "              Seq(\"AACCC\"),\n",
    "              Seq(\"AATGC\"),\n",
    "              Seq(\"AATGC\"),\n",
    "             ]\n",
    "\n",
    "m = motifs.create(instances)\n",
    "print(m)\n",
    "print(m.counts)\n",
    "\n",
    "print(m.consensus)\n",
    "\n",
    "print(m.anticonsensus)\n",
    "\n",
    "m.weblogo(\"mymotif.png\",kwargs=['stack_width:medium','stacks_per_line:40','alphabet:alphabet_dna','ignore_lower_case:True','unit_name:bits','first_index:1',\n",
    "'logo_start:1',\n",
    "'composition:comp_auto',\n",
    "'show_xaxis:False',\n",
    "'show_yaxis:False',\n",
    "'yaxis_scale:auto',\n",
    "'yaxis_tic_interval:1.0',\n",
    "'color_scheme:color_auto',])\n",
    "\n",
    "\n"
   ]
  },
  {
   "cell_type": "markdown",
   "metadata": {
    "collapsed": true
   },
   "source": [
    "### Expasy Prosite"
   ]
  },
  {
   "cell_type": "code",
   "execution_count": 55,
   "metadata": {},
   "outputs": [
    {
     "name": "stdout",
     "output_type": "stream",
     "text": [
      "Epas1 amino acid sequence:\n",
      "MTADKEKKRSSSERRKEKSRDAARCRRSKETEVFYELAHELPLPHSVSSHLDKASIMRLAISFLRTHKLLSSVCSENESEAEADQQMDNLYLKALEGFIAVVTQDGDMIFLSENISKFMGLTQVELTGHSIFDFTHPCDHEEIRENLSLKNGSGFGKKSKDMSTERDFFMRMKCTVTNRGRTVNLKSATWKVLHCTGQVKVYNNCPPHNSLCGYKEPLLSCLIIMCEPIQHPSHMDIPLDSKTFLSRHSMDMKFTYCDDRITELIGYHPEELLGRSAYEFYHALDSENMTKSHQNLCTKGQVVSGQYRMLAKHGGYVWLETQGTVIYNPRNLQPQCIMCVNYVLSEIEKNDVVFSMDQTESLFKPHLMAMNSIFDSSGKGAVSEKSNFLFTKLKEEPEELAQLAPTPGDAIISLDFGNQNFEESSAYGKAILPPSQPWATELRSHSTQSEAGSLPAFTVPQAAAPGSTTPSATSSSSSCSTPNSPEDYYTSLDNDLKIEVIEKLFAMDTEAKDQCSTQTDFNELDLETLAPYIPMDGEDFQLSPICPEERLLAENPQSTPQHCFSAMTNIFQPLAPVAPHSPFLLDKFQQQLESKKTEPEHRPMSSIFFDAGSKASLPPCCGQASTPLSSMGGRSNTQWPPDPPLHFGPTKWAVGDQRTEFLGAAPLGPPVSPPHVSTFKTRSAKGFGARGPDVLSPAMVALSNKLKLKRQLEYEEQAFQDLSGGDPPGGSTSHLMWKRMKNLRGGSCPLMPDKPLSANVPNDKFTQNPMRGLGHPLRHLPLPQPPSAISPGENSKSRFPPQCYATQYQDYSLSSAHKVSGMASRLLGPSFESYLLPELTRYDCEVNVPVLGSSTLLQGGDLLRALDQAT\n"
     ]
    }
   ],
   "source": [
    "from Bio import ExPASy\n",
    "from Bio import SwissProt\n",
    "accessions = [\"Q99814\"]\n",
    "for accession in accessions:\n",
    "    handle = ExPASy.get_sprot_raw(accession)\n",
    "    record = SwissProt.read(handle)\n",
    "    handle = ExPASy.get_sprot_raw(accession)\n",
    "    text= handle.read()\n",
    "# print(text)    \n",
    "data = [x.strip() for x in text.split('\\n')]\n",
    "aa = data[-17:]\n",
    "AA = ''\n",
    "for a in aa:\n",
    "    AA = str(AA) + str(a)\n",
    "AA = AA.split(' ')\n",
    "new_aa = ''.join(AA)[0:-2]\n",
    "print('Epas1 amino acid sequence:\\n'+str(new_aa))"
   ]
  },
  {
   "cell_type": "code",
   "execution_count": 86,
   "metadata": {},
   "outputs": [
    {
     "data": {
      "text/plain": [
       "'/home/rantonioh/BioNetGen-2.3.1/BNG2.pl'"
      ]
     },
     "execution_count": 86,
     "metadata": {},
     "output_type": "execute_result"
    }
   ],
   "source": [
    "from pysb import *\n",
    "from pysb import pathfinder\n",
    "\n",
    "pathfinder.set_path('bng', '/home/rantonioh/BioNetGen-2.3.1/')\n",
    "pathfinder.get_path('bng')"
   ]
  },
  {
   "cell_type": "code",
   "execution_count": 87,
   "metadata": {},
   "outputs": [
    {
     "data": {
      "text/plain": [
       "Observable('Lbound', EGF(R=ANY))"
      ]
     },
     "execution_count": 87,
     "metadata": {},
     "output_type": "execute_result"
    }
   ],
   "source": [
    "Model()\n",
    "\n",
    "\n",
    "# Physical and geometric constants\n",
    "Parameter('NA', 6.0e23)      # Avogadro's num\n",
    "Parameter('f', 0.01)         # scaling factor\n",
    "Expression('Vo', f * 1e-10)  # L\n",
    "Expression('V', f * 3e-12)   # L\n",
    "\n",
    "# Initial concentrations\n",
    "Parameter('EGF_conc', 2e-9)             # nM\n",
    "Expression('EGF0', EGF_conc * NA * Vo)  # nM\n",
    "Expression('EGFR0', f * 1.8e5)          # copy per cell\n",
    "\n",
    "# Rate constants\n",
    "Expression('kp1', 9.0e7 / (NA * Vo))  # input /M/sec\n",
    "Parameter('km1', 0.06)                # /sec\n",
    "\n",
    "\n",
    "Monomer('EGF', ['R'])\n",
    "Monomer('EGFR', ['L', 'CR1', 'Y1068'], {'Y1068': ['U', 'P']})\n",
    "\n",
    "\n",
    "Initial(EGF(R=None), EGF0)\n",
    "Initial(EGFR(L=None, CR1=None, Y1068='U'), EGFR0)\n",
    "\n",
    "\n",
    "Rule('egf_binds_egfr', EGF(R=None) + EGFR(L=None) | EGF(R=1) % EGFR(L=1), kp1, km1)\n",
    "\n",
    "\n",
    "# Species LR EGF(R!1).EGFR(L!1)\n",
    "Observable('Lbound', EGF(R=ANY))  # Molecules"
   ]
  },
  {
   "cell_type": "code",
   "execution_count": 88,
   "metadata": {},
   "outputs": [],
   "source": [
    "from pysb.integrate import Solver"
   ]
  },
  {
   "cell_type": "code",
   "execution_count": 89,
   "metadata": {},
   "outputs": [
    {
     "data": {
      "image/png": "[encoded data removed]",
      "text/plain": [
       "<matplotlib.figure.Figure at 0x7f0228d58358>"
      ]
     },
     "metadata": {},
     "output_type": "display_data"
    }
   ],
   "source": [
    "t = [0, 10, 20, 30, 40, 50, 60]\n",
    "solver = Solver(model, t)\n",
    "solver.run()\n",
    "# print(solver.y[:, 1])\n",
    "import matplotlib.pyplot as plt\n",
    "plt.plot(solver.y)\n",
    "plt.show()\n",
    "plt.close()"
   ]
  },
  {
   "cell_type": "code",
   "execution_count": 70,
   "metadata": {},
   "outputs": [
    {
     "data": {
      "image/png": "[encoded data removed]",
      "text/plain": [
       "<matplotlib.figure.Figure at 0x7f0229ee78d0>"
      ]
     },
     "metadata": {},
     "output_type": "display_data"
    },
    {
     "data": {
      "image/png": "[encoded data removed]",
      "text/plain": [
       "<matplotlib.figure.Figure at 0x7f0229d83a58>"
      ]
     },
     "metadata": {},
     "output_type": "display_data"
    }
   ],
   "source": [
    "import numpy as np\n",
    "import matplotlib.pyplot as plt\n",
    "%matplotlib inline\n",
    "x1 = np.random.normal(0, 0.8, 1000)\n",
    "x2 = np.random.normal(-2, 1, 1000)\n",
    "x3 = np.random.normal(3, 2, 1000)\n",
    "\n",
    "kwargs = dict(histtype='stepfilled', alpha=0.3, normed=True, bins=40)\n",
    "\n",
    "plt.hist(x1, **kwargs)\n",
    "plt.hist(x2, **kwargs)\n",
    "plt.hist(x3, **kwargs);\n",
    "plt.show()\n",
    "plt.close()\n",
    "\n",
    "\n",
    "mean = [0, 0]\n",
    "\n",
    "cov = [[1, 1], [1, 2]]\n",
    "x, y = np.random.multivariate_normal(mean, cov, 10000).T\n",
    "plt.hist2d(x, y, bins=30, cmap='Blues')\n",
    "cb = plt.colorbar()\n",
    "cb.set_label('counts in bin')"
   ]
  },
  {
   "cell_type": "code",
   "execution_count": 78,
   "metadata": {},
   "outputs": [
    {
     "data": {
      "text/html": [
       "<div>\n",
       "<table border=\"1\" class=\"dataframe\">\n",
       "  <thead>\n",
       "    <tr style=\"text-align: right;\">\n",
       "      <th></th>\n",
       "      <th>age</th>\n",
       "      <th>gender</th>\n",
       "      <th>split</th>\n",
       "      <th>final</th>\n",
       "    </tr>\n",
       "  </thead>\n",
       "  <tbody>\n",
       "    <tr>\n",
       "      <th>0</th>\n",
       "      <td>33</td>\n",
       "      <td>M</td>\n",
       "      <td>01:05:38</td>\n",
       "      <td>02:08:51</td>\n",
       "    </tr>\n",
       "    <tr>\n",
       "      <th>1</th>\n",
       "      <td>32</td>\n",
       "      <td>M</td>\n",
       "      <td>01:06:26</td>\n",
       "      <td>02:09:28</td>\n",
       "    </tr>\n",
       "    <tr>\n",
       "      <th>2</th>\n",
       "      <td>31</td>\n",
       "      <td>M</td>\n",
       "      <td>01:06:49</td>\n",
       "      <td>02:10:42</td>\n",
       "    </tr>\n",
       "    <tr>\n",
       "      <th>3</th>\n",
       "      <td>38</td>\n",
       "      <td>M</td>\n",
       "      <td>01:06:16</td>\n",
       "      <td>02:13:45</td>\n",
       "    </tr>\n",
       "    <tr>\n",
       "      <th>4</th>\n",
       "      <td>31</td>\n",
       "      <td>M</td>\n",
       "      <td>01:06:32</td>\n",
       "      <td>02:13:59</td>\n",
       "    </tr>\n",
       "  </tbody>\n",
       "</table>\n",
       "</div>"
      ],
      "text/plain": [
       "   age gender    split    final\n",
       "0   33      M 01:05:38 02:08:51\n",
       "1   32      M 01:06:26 02:09:28\n",
       "2   31      M 01:06:49 02:10:42\n",
       "3   38      M 01:06:16 02:13:45\n",
       "4   31      M 01:06:32 02:13:59"
      ]
     },
     "execution_count": 78,
     "metadata": {},
     "output_type": "execute_result"
    }
   ],
   "source": [
    "def convert_time(s):\n",
    "    h, m, s = map(int, s.split(':'))\n",
    "    return pd.datetools.timedelta(hours=h, minutes=m, seconds=s)\n",
    "\n",
    "data = pd.read_csv('/home/rah/files/marathon-data.csv',converters={'split':convert_time, 'final':convert_time})\n",
    "data.head()"
   ]
  },
  {
   "cell_type": "code",
   "execution_count": 79,
   "metadata": {},
   "outputs": [
    {
     "data": {
      "text/plain": [
       "age                 int64\n",
       "gender             object\n",
       "split     timedelta64[ns]\n",
       "final     timedelta64[ns]\n",
       "dtype: object"
      ]
     },
     "execution_count": 79,
     "metadata": {},
     "output_type": "execute_result"
    }
   ],
   "source": [
    "data.dtypes"
   ]
  },
  {
   "cell_type": "code",
   "execution_count": 81,
   "metadata": {},
   "outputs": [
    {
     "data": {
      "text/html": [
       "<div>\n",
       "<table border=\"1\" class=\"dataframe\">\n",
       "  <thead>\n",
       "    <tr style=\"text-align: right;\">\n",
       "      <th></th>\n",
       "      <th>age</th>\n",
       "      <th>gender</th>\n",
       "      <th>split</th>\n",
       "      <th>final</th>\n",
       "      <th>split_sec</th>\n",
       "      <th>final_sec</th>\n",
       "    </tr>\n",
       "  </thead>\n",
       "  <tbody>\n",
       "    <tr>\n",
       "      <th>0</th>\n",
       "      <td>33</td>\n",
       "      <td>M</td>\n",
       "      <td>01:05:38</td>\n",
       "      <td>02:08:51</td>\n",
       "      <td>3938.0</td>\n",
       "      <td>7731.0</td>\n",
       "    </tr>\n",
       "    <tr>\n",
       "      <th>1</th>\n",
       "      <td>32</td>\n",
       "      <td>M</td>\n",
       "      <td>01:06:26</td>\n",
       "      <td>02:09:28</td>\n",
       "      <td>3986.0</td>\n",
       "      <td>7768.0</td>\n",
       "    </tr>\n",
       "    <tr>\n",
       "      <th>2</th>\n",
       "      <td>31</td>\n",
       "      <td>M</td>\n",
       "      <td>01:06:49</td>\n",
       "      <td>02:10:42</td>\n",
       "      <td>4009.0</td>\n",
       "      <td>7842.0</td>\n",
       "    </tr>\n",
       "    <tr>\n",
       "      <th>3</th>\n",
       "      <td>38</td>\n",
       "      <td>M</td>\n",
       "      <td>01:06:16</td>\n",
       "      <td>02:13:45</td>\n",
       "      <td>3976.0</td>\n",
       "      <td>8025.0</td>\n",
       "    </tr>\n",
       "    <tr>\n",
       "      <th>4</th>\n",
       "      <td>31</td>\n",
       "      <td>M</td>\n",
       "      <td>01:06:32</td>\n",
       "      <td>02:13:59</td>\n",
       "      <td>3992.0</td>\n",
       "      <td>8039.0</td>\n",
       "    </tr>\n",
       "  </tbody>\n",
       "</table>\n",
       "</div>"
      ],
      "text/plain": [
       "   age gender    split    final  split_sec  final_sec\n",
       "0   33      M 01:05:38 02:08:51     3938.0     7731.0\n",
       "1   32      M 01:06:26 02:09:28     3986.0     7768.0\n",
       "2   31      M 01:06:49 02:10:42     4009.0     7842.0\n",
       "3   38      M 01:06:16 02:13:45     3976.0     8025.0\n",
       "4   31      M 01:06:32 02:13:59     3992.0     8039.0"
      ]
     },
     "execution_count": 81,
     "metadata": {},
     "output_type": "execute_result"
    }
   ],
   "source": [
    "data['split_sec'] = data['split'].astype(int) / 1E9\n",
    "data['final_sec'] = data['final'].astype(int) / 1E9\n",
    "data.head()"
   ]
  },
  {
   "cell_type": "code",
   "execution_count": null,
   "metadata": {
    "collapsed": true
   },
   "outputs": [],
   "source": []
  }
 ],
 "metadata": {
  "hide_input": false,
  "kernelspec": {
   "display_name": "Python 3",
   "language": "python",
   "name": "python3"
  },
  "language_info": {
   "codemirror_mode": {
    "name": "ipython",
    "version": 3
   },
   "file_extension": ".py",
   "mimetype": "text/x-python",
   "name": "python",
   "nbconvert_exporter": "python",
   "pygments_lexer": "ipython3",
   "version": "3.6.5"
  },
  "varInspector": {
   "cols": {
    "lenName": 16,
    "lenType": 16,
    "lenVar": 40
   },
   "kernels_config": {
    "python": {
     "delete_cmd_postfix": "",
     "delete_cmd_prefix": "del ",
     "library": "var_list.py",
     "varRefreshCmd": "print(var_dic_list())"
    },
    "r": {
     "delete_cmd_postfix": ") ",
     "delete_cmd_prefix": "rm(",
     "library": "var_list.r",
     "varRefreshCmd": "cat(var_dic_list()) "
    }
   },
   "types_to_exclude": [
    "module",
    "function",
    "builtin_function_or_method",
    "instance",
    "_Feature"
   ],
   "window_display": false
  }
 },
 "nbformat": 4,
 "nbformat_minor": 1
}
