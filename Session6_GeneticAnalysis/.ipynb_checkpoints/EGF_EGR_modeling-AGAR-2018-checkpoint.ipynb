{
 "cells": [
  {
   "cell_type": "code",
   "execution_count": 1,
   "metadata": {
    "ExecuteTime": {
     "end_time": "2018-08-02T09:44:47.747769Z",
     "start_time": "2018-08-02T09:44:46.481155Z"
    }
   },
   "outputs": [
    {
     "ename": "ValueError",
     "evalue": "Unable to access path /home/rah/BioNetGen-2.3.1/. Check the file exists and the current user has permission to access it.",
     "output_type": "error",
     "traceback": [
      "\u001b[0;31m---------------------------------------------------------------------------\u001b[0m",
      "\u001b[0;31mValueError\u001b[0m                                Traceback (most recent call last)",
      "\u001b[0;32m<ipython-input-1-eac65713ef68>\u001b[0m in \u001b[0;36m<module>\u001b[0;34m()\u001b[0m\n\u001b[1;32m      2\u001b[0m \u001b[0;32mfrom\u001b[0m \u001b[0mpysb\u001b[0m \u001b[0;32mimport\u001b[0m \u001b[0mpathfinder\u001b[0m\u001b[0;34m\u001b[0m\u001b[0m\n\u001b[1;32m      3\u001b[0m \u001b[0;34m\u001b[0m\u001b[0m\n\u001b[0;32m----> 4\u001b[0;31m \u001b[0mpathfinder\u001b[0m\u001b[0;34m.\u001b[0m\u001b[0mset_path\u001b[0m\u001b[0;34m(\u001b[0m\u001b[0;34m'bng'\u001b[0m\u001b[0;34m,\u001b[0m \u001b[0;34m'/home/rah/BioNetGen-2.3.1/'\u001b[0m\u001b[0;34m)\u001b[0m\u001b[0;34m\u001b[0m\u001b[0m\n\u001b[0m\u001b[1;32m      5\u001b[0m \u001b[0mpathfinder\u001b[0m\u001b[0;34m.\u001b[0m\u001b[0mget_path\u001b[0m\u001b[0;34m(\u001b[0m\u001b[0;34m'bng'\u001b[0m\u001b[0;34m)\u001b[0m\u001b[0;34m\u001b[0m\u001b[0m\n\u001b[1;32m      6\u001b[0m \u001b[0;34m\u001b[0m\u001b[0m\n",
      "\u001b[0;32m/anaconda3/lib/python3.6/site-packages/pysb/pathfinder.py\u001b[0m in \u001b[0;36mset_path\u001b[0;34m(prog_name, full_path)\u001b[0m\n\u001b[1;32m    184\u001b[0m         \u001b[0;32mraise\u001b[0m \u001b[0mValueError\u001b[0m\u001b[0;34m(\u001b[0m\u001b[0;34m'%s is not a known external executable'\u001b[0m \u001b[0;34m%\u001b[0m \u001b[0mprog_name\u001b[0m\u001b[0;34m)\u001b[0m\u001b[0;34m\u001b[0m\u001b[0m\n\u001b[1;32m    185\u001b[0m \u001b[0;34m\u001b[0m\u001b[0m\n\u001b[0;32m--> 186\u001b[0;31m     \u001b[0m_path_cache\u001b[0m\u001b[0;34m[\u001b[0m\u001b[0mprog_name\u001b[0m\u001b[0;34m]\u001b[0m \u001b[0;34m=\u001b[0m \u001b[0m_validate_path\u001b[0m\u001b[0;34m(\u001b[0m\u001b[0mprog_name\u001b[0m\u001b[0;34m,\u001b[0m \u001b[0mfull_path\u001b[0m\u001b[0;34m)\u001b[0m\u001b[0;34m\u001b[0m\u001b[0m\n\u001b[0m\u001b[1;32m    187\u001b[0m \u001b[0;34m\u001b[0m\u001b[0m\n\u001b[1;32m    188\u001b[0m \u001b[0;34m\u001b[0m\u001b[0m\n",
      "\u001b[0;32m/anaconda3/lib/python3.6/site-packages/pysb/pathfinder.py\u001b[0m in \u001b[0;36m_validate_path\u001b[0;34m(prog_name, full_path)\u001b[0m\n\u001b[1;32m    232\u001b[0m         raise ValueError('Unable to access path %s. Check the file exists '\n\u001b[1;32m    233\u001b[0m                          \u001b[0;34m'and the current user has permission to access it.'\u001b[0m \u001b[0;34m%\u001b[0m\u001b[0;34m\u001b[0m\u001b[0m\n\u001b[0;32m--> 234\u001b[0;31m                          full_path)\n\u001b[0m\u001b[1;32m    235\u001b[0m \u001b[0;34m\u001b[0m\u001b[0m\n\u001b[1;32m    236\u001b[0m     \u001b[0;32mif\u001b[0m \u001b[0;32mnot\u001b[0m \u001b[0mos\u001b[0m\u001b[0;34m.\u001b[0m\u001b[0mpath\u001b[0m\u001b[0;34m.\u001b[0m\u001b[0misfile\u001b[0m\u001b[0;34m(\u001b[0m\u001b[0mfull_path\u001b[0m\u001b[0;34m)\u001b[0m\u001b[0;34m:\u001b[0m\u001b[0;34m\u001b[0m\u001b[0m\n",
      "\u001b[0;31mValueError\u001b[0m: Unable to access path /home/rah/BioNetGen-2.3.1/. Check the file exists and the current user has permission to access it."
     ]
    }
   ],
   "source": [
    "from pysb import *\n",
    "from pysb import pathfinder\n",
    "\n",
    "pathfinder.set_path('bng', '/home/user/BioNetGen-2.3.1/')\n",
    "pathfinder.get_path('bng')\n",
    "\n",
    "\n",
    "Model()\n",
    "\n",
    "\n",
    "# Physical and geometric constants\n",
    "Parameter('NA', 6.0e23)      # Avogadro's num\n",
    "Parameter('f', 0.01)         # scaling factor\n",
    "Expression('Vo', f * 1e-10)  # L\n",
    "Expression('V', f * 3e-12)   # L\n",
    "\n",
    "# Initial concentrations\n",
    "Parameter('EGF_conc', 2e-9)             # nM\n",
    "Expression('EGF0', EGF_conc * NA * Vo)  # nM\n",
    "Expression('EGFR0', f * 1.8e5)          # copy per cell\n",
    "\n",
    "# Rate constants\n",
    "Expression('kp1', 9.0e7 / (NA * Vo))  # input /M/sec\n",
    "Parameter('km1', 0.06)                # /sec\n",
    "\n",
    "\n",
    "Monomer('EGF', ['R'])\n",
    "Monomer('EGFR', ['L', 'CR1', 'Y1068'], {'Y1068': ['U', 'P']})\n",
    "\n",
    "\n",
    "Initial(EGF(R=None), EGF0)\n",
    "Initial(EGFR(L=None, CR1=None, Y1068='U'), EGFR0)\n",
    "\n",
    "\n",
    "Rule('egf_binds_egfr', EGF(R=None) + EGFR(L=None) | EGF(R=1) % EGFR(L=1), kp1, km1)\n",
    "\n",
    "\n",
    "# Species LR EGF(R!1).EGFR(L!1)\n",
    "Observable('Lbound', EGF(R=ANY))  # Molecules\n",
    "\n",
    "from pysb.integrate import Solver\n",
    "t = [0, 10, 20, 30, 40, 50, 60]\n",
    "solver = Solver(model, t)\n",
    "solver.run()\n",
    "# print(solver.y[:, 1])\n",
    "import matplotlib.pyplot as plt\n",
    "plt.plot(solver.y)\n",
    "plt.show()\n",
    "plt.close()"
   ]
  },
  {
   "cell_type": "code",
   "execution_count": null,
   "metadata": {},
   "outputs": [],
   "source": []
  }
 ],
 "metadata": {
  "hide_input": false,
  "kernelspec": {
   "display_name": "Python 3",
   "language": "python",
   "name": "python3"
  },
  "language_info": {
   "codemirror_mode": {
    "name": "ipython",
    "version": 3
   },
   "file_extension": ".py",
   "mimetype": "text/x-python",
   "name": "python",
   "nbconvert_exporter": "python",
   "pygments_lexer": "ipython3",
   "version": "3.6.5"
  },
  "varInspector": {
   "cols": {
    "lenName": 16,
    "lenType": 16,
    "lenVar": 40
   },
   "kernels_config": {
    "python": {
     "delete_cmd_postfix": "",
     "delete_cmd_prefix": "del ",
     "library": "var_list.py",
     "varRefreshCmd": "print(var_dic_list())"
    },
    "r": {
     "delete_cmd_postfix": ") ",
     "delete_cmd_prefix": "rm(",
     "library": "var_list.r",
     "varRefreshCmd": "cat(var_dic_list()) "
    }
   },
   "types_to_exclude": [
    "module",
    "function",
    "builtin_function_or_method",
    "instance",
    "_Feature"
   ],
   "window_display": false
  }
 },
 "nbformat": 4,
 "nbformat_minor": 2
}
