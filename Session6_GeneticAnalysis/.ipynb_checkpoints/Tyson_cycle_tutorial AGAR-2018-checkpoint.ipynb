{
 "cells": [
  {
   "cell_type": "code",
   "execution_count": 2,
   "metadata": {
    "ExecuteTime": {
     "end_time": "2018-08-01T18:25:50.109888Z",
     "start_time": "2018-08-01T18:25:50.096980Z"
    }
   },
   "outputs": [
    {
     "data": {
      "image/png": "[encoded data removed]",
      "text/plain": [
       "<IPython.core.display.Image object>"
      ]
     },
     "execution_count": 2,
     "metadata": {},
     "output_type": "execute_result"
    }
   ],
   "source": [
    "from IPython.display import Image\n",
    "Image(filename='TysonGraph.png')"
   ]
  },
  {
   "cell_type": "markdown",
   "metadata": {},
   "source": [
    "1)Import all features from pysb"
   ]
  },
  {
   "cell_type": "code",
   "execution_count": 3,
   "metadata": {
    "ExecuteTime": {
     "end_time": "2018-08-01T18:26:01.337597Z",
     "start_time": "2018-08-01T18:25:55.649262Z"
    }
   },
   "outputs": [],
   "source": [
    "from pysb import *"
   ]
  },
  {
   "cell_type": "markdown",
   "metadata": {},
   "source": [
    "2) Import pysb macros"
   ]
  },
  {
   "cell_type": "code",
   "execution_count": 4,
   "metadata": {
    "ExecuteTime": {
     "end_time": "2018-08-01T18:26:02.382895Z",
     "start_time": "2018-08-01T18:26:02.375870Z"
    }
   },
   "outputs": [],
   "source": [
    "from pysb.macros import *"
   ]
  },
  {
   "cell_type": "markdown",
   "metadata": {},
   "source": [
    "3) Import Avogadro's number to convert parameter rates"
   ]
  },
  {
   "cell_type": "code",
   "execution_count": 5,
   "metadata": {
    "ExecuteTime": {
     "end_time": "2018-08-01T18:26:04.069928Z",
     "start_time": "2018-08-01T18:26:04.050963Z"
    }
   },
   "outputs": [],
   "source": [
    "from scipy.constants import N_A"
   ]
  },
  {
   "cell_type": "markdown",
   "metadata": {},
   "source": [
    "4) Generate instance of model class"
   ]
  },
  {
   "cell_type": "code",
   "execution_count": 6,
   "metadata": {
    "ExecuteTime": {
     "end_time": "2018-08-01T18:26:05.723549Z",
     "start_time": "2018-08-01T18:26:05.613441Z"
    }
   },
   "outputs": [
    {
     "data": {
      "text/plain": [
       "<Model '_interactive_' (monomers: 0, rules: 0, parameters: 0, expressions: 0, compartments: 0) at 0x1112e7940>"
      ]
     },
     "execution_count": 6,
     "metadata": {},
     "output_type": "execute_result"
    }
   ],
   "source": [
    "Model()"
   ]
  },
  {
   "cell_type": "markdown",
   "metadata": {},
   "source": [
    "5) Define two monomers:\n",
    "* cyclin that has two sites. One of the sites is the binding site and the oter site is the phoshorilation one. The    phosphorilation site has two states: phosphorilated and unphosphorilated.\n",
    "* cdc2 that has two sites. One of the sites is the binding site and the oter site is the phoshorilation one. The    phosphorilation site has two states: phosphorilated and unphosphorilated.\n"
   ]
  },
  {
   "cell_type": "code",
   "execution_count": 7,
   "metadata": {
    "ExecuteTime": {
     "end_time": "2018-08-01T18:26:07.826192Z",
     "start_time": "2018-08-01T18:26:07.810389Z"
    }
   },
   "outputs": [
    {
     "data": {
      "text/plain": [
       "Monomer('cdc2', ['Y', 'b'], {'Y': ['U', 'P']})"
      ]
     },
     "execution_count": 7,
     "metadata": {},
     "output_type": "execute_result"
    }
   ],
   "source": [
    "Monomer('cyclin', ['Y', 'b'], {'Y': ['U','P']})\n",
    "Monomer('cdc2', ['Y', 'b'], {'Y': ['U','P']})"
   ]
  },
  {
   "cell_type": "code",
   "execution_count": 8,
   "metadata": {
    "ExecuteTime": {
     "end_time": "2018-08-01T18:26:09.104224Z",
     "start_time": "2018-08-01T18:26:09.051708Z"
    }
   },
   "outputs": [
    {
     "data": {
      "text/plain": [
       "Parameter('k9', 1000.0)"
      ]
     },
     "execution_count": 8,
     "metadata": {},
     "output_type": "execute_result"
    }
   ],
   "source": [
    "VOL = 1e-20\n",
    "NA_V = N_A*VOL\n",
    "\n",
    "Parameter('k1', 0.015*NA_V)\n",
    "Parameter('k2', 0)\n",
    "Parameter('k3', 200/NA_V)\n",
    "Parameter('k4', 2*180/NA_V/NA_V)\n",
    "Parameter('kp4', 0.018)\n",
    "Parameter('k5', 0)\n",
    "Parameter('k6', 1.0)\n",
    "Parameter('k7', 0.6)\n",
    "Parameter('k8', 1e6)\n",
    "Parameter('k9', 1e3)"
   ]
  },
  {
   "cell_type": "markdown",
   "metadata": {},
   "source": [
    "Use the synthesise function to create cyclin in state unbounded and unphosphorilated. synthesize(species, k_synthesis)"
   ]
  },
  {
   "cell_type": "code",
   "execution_count": 9,
   "metadata": {
    "ExecuteTime": {
     "end_time": "2018-08-01T18:26:10.490419Z",
     "start_time": "2018-08-01T18:26:10.474427Z"
    }
   },
   "outputs": [
    {
     "data": {
      "text/plain": [
       "ComponentSet([\n",
       " Rule('synthesize_cyclinU', None >> cyclin(Y='U', b=None), k1),\n",
       " ])"
      ]
     },
     "execution_count": 9,
     "metadata": {},
     "output_type": "execute_result"
    }
   ],
   "source": [
    "synthesize(cyclin(Y='U', b=None), k1)"
   ]
  },
  {
   "cell_type": "markdown",
   "metadata": {},
   "source": [
    "Create a binding and  phosphorilation rule. Cyclin combines with cdc2-P (step 3) to form Cyclin%cdc2-p. \"At some point after heterodimer formation, the cyclin subunit is phosphorylated. (Assuming phosphorylation is faster than dimerization, I write the two-step process as a single step, rate-limited by dimerization.)\" J. J. Tyson, PNAS (1991) 7328-7332"
   ]
  },
  {
   "cell_type": "code",
   "execution_count": 10,
   "metadata": {
    "ExecuteTime": {
     "end_time": "2018-08-01T18:26:12.894973Z",
     "start_time": "2018-08-01T18:26:12.882283Z"
    }
   },
   "outputs": [
    {
     "data": {
      "text/plain": [
       "Rule('BindingAndPhosphoylation', cyclin(Y='U', b=None) + cdc2(Y='P', b=None) >> cyclin(Y='P', b=1) % cdc2(Y='P', b=1), k3)"
      ]
     },
     "execution_count": 10,
     "metadata": {},
     "output_type": "execute_result"
    }
   ],
   "source": [
    "Rule('BindingAndPhosphoylation', cyclin(Y='U', b=None) + \n",
    "     cdc2(Y='P', b=None) >> \n",
    "     cyclin(Y='P', b=1) % cdc2(Y='P', b=1), k3)"
   ]
  },
  {
   "cell_type": "markdown",
   "metadata": {},
   "source": [
    "cyclin(Y='P', b=1) % cdc2(Y='U', b=1) is generated in an autocatalytic fashion "
   ]
  },
  {
   "cell_type": "code",
   "execution_count": 11,
   "metadata": {
    "ExecuteTime": {
     "end_time": "2018-08-01T18:26:14.760534Z",
     "start_time": "2018-08-01T18:26:14.745680Z"
    }
   },
   "outputs": [
    {
     "data": {
      "text/plain": [
       "Rule('Activation', cyclin(Y='P', b=1) % cdc2(Y='P', b=1) >> cyclin(Y='P', b=1) % cdc2(Y='U', b=1), kp4)"
      ]
     },
     "execution_count": 11,
     "metadata": {},
     "output_type": "execute_result"
    }
   ],
   "source": [
    "Rule('Activation', cyclin(Y='P', b=1) % cdc2(Y='P', b=1) >> \n",
    "     cyclin(Y='P', b=1) % cdc2(Y='U', b=1), kp4)"
   ]
  },
  {
   "cell_type": "code",
   "execution_count": 12,
   "metadata": {
    "ExecuteTime": {
     "end_time": "2018-08-01T18:26:15.122521Z",
     "start_time": "2018-08-01T18:26:15.094477Z"
    }
   },
   "outputs": [
    {
     "data": {
      "text/plain": [
       "Rule('Autocatalytic', cyclin(Y='P', b=1) % cdc2(Y='P', b=1) + cyclin(Y='P', b=2) % cdc2(Y='U', b=2) + cyclin(Y='P', b=2) % cdc2(Y='U', b=2) >> cyclin(Y='P', b=1) % cdc2(Y='U', b=1) + cyclin(Y='P', b=2) % cdc2(Y='U', b=2) + cyclin(Y='P', b=2) % cdc2(Y='U', b=2), k4)"
      ]
     },
     "execution_count": 12,
     "metadata": {},
     "output_type": "execute_result"
    }
   ],
   "source": [
    "Rule('Autocatalytic', cyclin(Y='P', b=1) % cdc2(Y='P', b=1) +\n",
    "     cyclin(Y='P', b=2) % cdc2(Y='U', b=2) +\n",
    "     cyclin(Y='P', b=2) % cdc2(Y='U', b=2) >>\n",
    "cyclin(Y='P', b=1) % cdc2(Y='U', b=1) +\n",
    "     cyclin(Y='P', b=2) % cdc2(Y='U', b=2) +\n",
    "     cyclin(Y='P', b=2) % cdc2(Y='U', b=2), k4)"
   ]
  },
  {
   "cell_type": "markdown",
   "metadata": {},
   "source": [
    "cyclin(Y='P', b=1) % cdc2(Y='U', b=1) is dissociated"
   ]
  },
  {
   "cell_type": "code",
   "execution_count": 13,
   "metadata": {
    "ExecuteTime": {
     "end_time": "2018-08-01T18:26:16.964145Z",
     "start_time": "2018-08-01T18:26:16.950598Z"
    }
   },
   "outputs": [
    {
     "data": {
      "text/plain": [
       "Rule('Dissociation', cyclin(Y='P', b=1) % cdc2(Y='U', b=1) >> cdc2(Y='U', b=None), k6)"
      ]
     },
     "execution_count": 13,
     "metadata": {},
     "output_type": "execute_result"
    }
   ],
   "source": [
    "Rule('Dissociation', cyclin(Y='P', b=1) % cdc2(Y='U', b=1) >>\n",
    "     cdc2(Y='U', b=None), k6)"
   ]
  },
  {
   "cell_type": "markdown",
   "metadata": {},
   "source": [
    "Cdc2-U and Cdc2-P equilibrate. You can use the equilibrate function from macros: equilibrate(protein1, protein2, [list_rate_parameters])"
   ]
  },
  {
   "cell_type": "code",
   "execution_count": 14,
   "metadata": {
    "ExecuteTime": {
     "end_time": "2018-08-01T18:26:17.826817Z",
     "start_time": "2018-08-01T18:26:17.818099Z"
    }
   },
   "outputs": [
    {
     "data": {
      "text/plain": [
       "ComponentSet([\n",
       " Rule('equilibrate_cdc2U_to_cdc2P', cdc2(Y='U', b=None) | cdc2(Y='P', b=None), k8, k9),\n",
       " ])"
      ]
     },
     "execution_count": 14,
     "metadata": {},
     "output_type": "execute_result"
    }
   ],
   "source": [
    "equilibrate(cdc2(Y='U', b=None), cdc2(Y='P', b=None), [k8, k9])"
   ]
  },
  {
   "cell_type": "markdown",
   "metadata": {},
   "source": [
    "Declare initial conditions"
   ]
  },
  {
   "cell_type": "code",
   "execution_count": 15,
   "metadata": {
    "ExecuteTime": {
     "end_time": "2018-08-01T18:26:18.733001Z",
     "start_time": "2018-08-01T18:26:18.717936Z"
    }
   },
   "outputs": [],
   "source": [
    "#Initial conditions\n",
    "Parameter(\"cdc_0\", 1 * NA_V)\n",
    "Initial(cdc2(Y='P', b=None), cdc_0)\n",
    "\n",
    "# [Y] in Tyson\n",
    "Parameter('cyc_0', 0.25 * NA_V)\n",
    "Initial(cyclin(Y='U', b=None), cyc_0)"
   ]
  },
  {
   "cell_type": "markdown",
   "metadata": {},
   "source": [
    "Declare an observable for total cyclin and  the Cyclin-P%Cdc2-U complex"
   ]
  },
  {
   "cell_type": "code",
   "execution_count": 16,
   "metadata": {
    "ExecuteTime": {
     "end_time": "2018-08-01T18:26:21.607501Z",
     "start_time": "2018-08-01T18:26:21.591828Z"
    }
   },
   "outputs": [
    {
     "data": {
      "text/plain": [
       "Observable('active_cyclin', cyclin(Y='P', b=1) % cdc2(Y='U', b=1))"
      ]
     },
     "execution_count": 16,
     "metadata": {},
     "output_type": "execute_result"
    }
   ],
   "source": [
    "Observable('total_cyclin', cyclin()) \n",
    "Observable('active_cyclin', cyclin(b=1, Y='P') % cdc2(b=1, Y='U')) "
   ]
  },
  {
   "cell_type": "markdown",
   "metadata": {},
   "source": [
    "Simulation"
   ]
  },
  {
   "cell_type": "code",
   "execution_count": 17,
   "metadata": {
    "ExecuteTime": {
     "end_time": "2018-08-01T18:26:49.091500Z",
     "start_time": "2018-08-01T18:26:22.352788Z"
    }
   },
   "outputs": [
    {
     "name": "stderr",
     "output_type": "stream",
     "text": [
      "/anaconda3/lib/python3.6/site-packages/h5py/__init__.py:36: FutureWarning: Conversion of the second argument of issubdtype from `float` to `np.floating` is deprecated. In future, it will be treated as `np.float64 == np.dtype(float).type`.\n",
      "  from ._conv import register_converters as _register_converters\n"
     ]
    },
    {
     "data": {
      "image/png": "[encoded data removed]",
      "text/plain": [
       "<Figure size 432x288 with 1 Axes>"
      ]
     },
     "metadata": {},
     "output_type": "display_data"
    }
   ],
   "source": [
    "%matplotlib inline\n",
    "from pysb.integrate import odesolve\n",
    "from numpy import *\n",
    "import matplotlib.pyplot as plt\n",
    "\n",
    "t = linspace(0, 100, 10001)\n",
    "x = odesolve(model, t)\n",
    "\n",
    "plt.plot(t, x['total_cyclin'], lw=2, label='total_cyclin')\n",
    "plt.plot(t, x['active_cyclin'], lw=2, label='active_cyclin')\n",
    "\n",
    "plt.legend(loc=0)\n",
    "plt.xlabel('time')\n",
    "plt.ylabel('population')\n",
    "\n",
    "plt.show()"
   ]
  },
  {
   "cell_type": "code",
   "execution_count": null,
   "metadata": {
    "collapsed": true
   },
   "outputs": [],
   "source": []
  }
 ],
 "metadata": {
  "hide_input": false,
  "kernelspec": {
   "display_name": "Python 3",
   "language": "python",
   "name": "python3"
  },
  "language_info": {
   "codemirror_mode": {
    "name": "ipython",
    "version": 3
   },
   "file_extension": ".py",
   "mimetype": "text/x-python",
   "name": "python",
   "nbconvert_exporter": "python",
   "pygments_lexer": "ipython3",
   "version": "3.6.5"
  },
  "varInspector": {
   "cols": {
    "lenName": 16,
    "lenType": 16,
    "lenVar": 40
   },
   "kernels_config": {
    "python": {
     "delete_cmd_postfix": "",
     "delete_cmd_prefix": "del ",
     "library": "var_list.py",
     "varRefreshCmd": "print(var_dic_list())"
    },
    "r": {
     "delete_cmd_postfix": ") ",
     "delete_cmd_prefix": "rm(",
     "library": "var_list.r",
     "varRefreshCmd": "cat(var_dic_list()) "
    }
   },
   "types_to_exclude": [
    "module",
    "function",
    "builtin_function_or_method",
    "instance",
    "_Feature"
   ],
   "window_display": false
  }
 },
 "nbformat": 4,
 "nbformat_minor": 1
}
