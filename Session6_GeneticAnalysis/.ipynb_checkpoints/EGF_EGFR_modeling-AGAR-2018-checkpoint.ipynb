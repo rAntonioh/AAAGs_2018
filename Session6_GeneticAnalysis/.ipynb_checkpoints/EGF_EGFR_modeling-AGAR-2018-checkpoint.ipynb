{
 "cells": [
  {
   "cell_type": "markdown",
   "metadata": {},
   "source": [
    "# EGF and EGFR ligand binding\n",
    "\n",
    "### Author: R. Antonio Herrera\n",
    "code based on example: https://github.com/LoLab-VU/pysb-tutorials/blob/master/example-models/bngwiki_simple.ipynb"
   ]
  },
  {
   "cell_type": "code",
   "execution_count": 8,
   "metadata": {
    "ExecuteTime": {
     "end_time": "2018-08-02T15:56:50.999197Z",
     "start_time": "2018-08-02T15:56:50.992952Z"
    }
   },
   "outputs": [
    {
     "name": "stdout",
     "output_type": "stream",
     "text": [
      "importing pysb\n",
      "BioNetGen path set /home/rah/BioNetGen-2.3.1/bin\n"
     ]
    }
   ],
   "source": [
    "import matplotlib.pyplot as plt\n",
    "\n",
    "print('importing pysb')\n",
    "from pysb import *\n",
    "from pysb import pathfinder\n",
    "from pysb.integrate import Solver\n",
    "\n",
    "# this is your pythonanywhere.com username\n",
    "user_name = 'rah'\n",
    "\n",
    "bngl_path = '/home/'+str(user_name)+'/BioNetGen-2.3.1/bin'\n",
    "# for local usage\n",
    "# pathfinder.set_path('run_network', '/Users/rah/BioNetGen-2.3.2/bin')\n",
    "\n",
    "# for remote usage on PythonAnywhere\n",
    "# pathfinder.set_path('bng', bngl_path)\n",
    "\n",
    "# pathfinder.get_path('bng')\n",
    "print('BioNetGen path set', bngl_path)"
   ]
  },
  {
   "cell_type": "code",
   "execution_count": 9,
   "metadata": {
    "ExecuteTime": {
     "end_time": "2018-08-02T15:56:52.663989Z",
     "start_time": "2018-08-02T15:56:52.157873Z"
    }
   },
   "outputs": [
    {
     "data": {
      "image/png": "[encoded data removed]",
      "text/plain": [
       "<Figure size 432x288 with 1 Axes>"
      ]
     },
     "metadata": {},
     "output_type": "display_data"
    }
   ],
   "source": [
    "Model()\n",
    "\n",
    "\n",
    "# Physical and geometric constants\n",
    "Parameter('NA', 6.0e23)      # Avogadro's num\n",
    "Parameter('f', 0.01)         # scaling factor\n",
    "Expression('Vo', f * 1e-10)  # L\n",
    "Expression('V', f * 3e-12)   # L\n",
    "\n",
    "# Initial concentrations\n",
    "Parameter('EGF_conc', 2e-9)             # nM\n",
    "Expression('EGF0', EGF_conc * NA * Vo)  # nM\n",
    "Expression('EGFR0', f * 1.8e5)          # copy per cell\n",
    "\n",
    "# Rate constants\n",
    "Expression('kp1', 9.0e7 / (NA * Vo))  # input /M/sec\n",
    "Parameter('km1', 0.06)                # /sec\n",
    "\n",
    "\n",
    "Monomer('EGF', ['R'])\n",
    "Monomer('EGFR', ['L', 'CR1', 'Y1068'], {'Y1068': ['U', 'P']})\n",
    "\n",
    "\n",
    "Initial(EGF(R=None), EGF0)\n",
    "Initial(EGFR(L=None, CR1=None, Y1068='U'), EGFR0)\n",
    "\n",
    "\n",
    "Rule('egf_binds_egfr', EGF(R=None) + EGFR(L=None) | EGF(R=1) % EGFR(L=1), kp1, km1)\n",
    "\n",
    "\n",
    "# Species LR EGF(R!1).EGFR(L!1)\n",
    "Observable('Lbound', EGF(R=ANY))  # Molecules\n",
    "\n",
    "t = [0, 10, 20, 30, 40, 50, 60]\n",
    "solver = Solver(model, t)\n",
    "solver.run()\n",
    "print(solver.y[:, 1])\n",
    "plt.plot(solver.y)\n",
    "plt.show()\n",
    "plt.savefig('egfr_observables.png')\n",
    "plt.close()"
   ]
  },
  {
   "cell_type": "code",
   "execution_count": null,
   "metadata": {},
   "outputs": [],
   "source": []
  },
  {
   "cell_type": "code",
   "execution_count": null,
   "metadata": {},
   "outputs": [],
   "source": []
  }
 ],
 "metadata": {
  "hide_input": false,
  "kernelspec": {
   "display_name": "Python 3",
   "language": "python",
   "name": "python3"
  },
  "language_info": {
   "codemirror_mode": {
    "name": "ipython",
    "version": 3
   },
   "file_extension": ".py",
   "mimetype": "text/x-python",
   "name": "python",
   "nbconvert_exporter": "python",
   "pygments_lexer": "ipython3",
   "version": "3.6.5"
  },
  "varInspector": {
   "cols": {
    "lenName": 16,
    "lenType": 16,
    "lenVar": 40
   },
   "kernels_config": {
    "python": {
     "delete_cmd_postfix": "",
     "delete_cmd_prefix": "del ",
     "library": "var_list.py",
     "varRefreshCmd": "print(var_dic_list())"
    },
    "r": {
     "delete_cmd_postfix": ") ",
     "delete_cmd_prefix": "rm(",
     "library": "var_list.r",
     "varRefreshCmd": "cat(var_dic_list()) "
    }
   },
   "types_to_exclude": [
    "module",
    "function",
    "builtin_function_or_method",
    "instance",
    "_Feature"
   ],
   "window_display": false
  }
 },
 "nbformat": 4,
 "nbformat_minor": 2
}
